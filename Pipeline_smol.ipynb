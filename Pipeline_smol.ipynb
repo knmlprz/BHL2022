{
 "cells": [
  {
   "cell_type": "code",
   "execution_count": 1,
   "id": "3fbb04ac-2fa7-42a0-aba5-a2ce3b63dd04",
   "metadata": {},
   "outputs": [],
   "source": [
    "import numpy\n",
    "import matplotlib.pylab as plt\n",
    "import pandas as pd\n",
    "import numpy as np\n",
    "import seaborn as sns"
   ]
  },
  {
   "cell_type": "code",
   "execution_count": 2,
   "id": "2ba117b9-27e3-4cc7-b318-ca66318663ce",
   "metadata": {},
   "outputs": [],
   "source": [
    "df = pd.read_csv(\"dataset/train_data.csv\")"
   ]
  },
  {
   "cell_type": "code",
   "execution_count": 67,
   "id": "1f1e44df-62d3-4015-9f5a-0c729189fd3d",
   "metadata": {},
   "outputs": [
    {
     "data": {
      "text/plain": [
       "2017/18    6088\n",
       "2018/19    5861\n",
       "Name: YEAR, dtype: int64"
      ]
     },
     "execution_count": 67,
     "metadata": {},
     "output_type": "execute_result"
    }
   ],
   "source": [
    "df.YEAR.value_counts()"
   ]
  },
  {
   "cell_type": "code",
   "execution_count": 4,
   "id": "0a34d084-6ded-4028-9210-cf085acfa5f2",
   "metadata": {},
   "outputs": [
    {
     "data": {
      "text/plain": [
       "Index(['BBLE', 'BORO', 'BLOCK', 'LOT', 'EASEMENT', 'OWNER', 'BLDGCL',\n",
       "       'TAXCLASS', 'LTFRONT', 'LTDEPTH', 'EXT', 'STORIES', 'FULLVAL', 'AVLAND',\n",
       "       'AVTOT', 'EXLAND', 'EXTOT', 'EXCD1', 'STADDR', 'POSTCODE', 'EXMPTCL',\n",
       "       'BLDFRONT', 'BLDDEPTH', 'AVLAND2', 'AVTOT2', 'EXLAND2', 'EXTOT2',\n",
       "       'EXCD2', 'PERIOD', 'YEAR', 'VALTYPE', 'Borough', 'Latitude',\n",
       "       'Longitude', 'Community Board', 'Council District', 'Census Tract',\n",
       "       'BIN', 'NTA', 'New Georeferenced Column'],\n",
       "      dtype='object')"
      ]
     },
     "execution_count": 4,
     "metadata": {},
     "output_type": "execute_result"
    }
   ],
   "source": [
    "df.columns"
   ]
  },
  {
   "cell_type": "markdown",
   "id": "6183357f-1909-4043-bbed-c40e9e97995d",
   "metadata": {},
   "source": [
    "# Data preprocessing"
   ]
  },
  {
   "cell_type": "code",
   "execution_count": 31,
   "id": "49c12634-5410-4fe9-a966-5196792e8d4b",
   "metadata": {},
   "outputs": [],
   "source": [
    "clusters = pd.read_csv(\"clusters.csv\")\n",
    "clusters = clusters.set_index(\"labels\")"
   ]
  },
  {
   "cell_type": "code",
   "execution_count": 32,
   "id": "cbd081b5-3b59-4996-9131-6b3331de09ea",
   "metadata": {},
   "outputs": [],
   "source": [
    "def find_closest_cluster(point, clusters):\n",
    "    if np.sum(np.isnan(point)) > 0:\n",
    "        return -1, 0\n",
    "    dist = np.sqrt(np.sum((clusters - point)**2, axis=1))\n",
    "    ind = np.argmin(dist)\n",
    "    min_dist = np.min(dist)\n",
    "    return ind, min_dist"
   ]
  },
  {
   "cell_type": "code",
   "execution_count": 33,
   "id": "a0674948-3b6b-4b26-bc4b-7850dcc4c84a",
   "metadata": {},
   "outputs": [],
   "source": [
    "def df_info(df):\n",
    "    #print(df.info())\n",
    "    return df"
   ]
  },
  {
   "cell_type": "code",
   "execution_count": 34,
   "id": "e501daa6-aaf5-4945-9240-4f80afc96c97",
   "metadata": {},
   "outputs": [],
   "source": [
    "def select_columns(df, columns=[]):\n",
    "    \"\"\"\n",
    "    Selects columns from `columns`\n",
    "    \"\"\"\n",
    "    return df.loc[:,columns]"
   ]
  },
  {
   "cell_type": "code",
   "execution_count": 35,
   "id": "c40803cd-fb6c-4a72-ba41-ed3ec22b410e",
   "metadata": {},
   "outputs": [],
   "source": [
    "def encode_easement(df):\n",
    "    df.EASEMENT = df.EASEMENT.apply(lambda x: int(len(str(x)) == 1))\n",
    "    return df"
   ]
  },
  {
   "cell_type": "code",
   "execution_count": 36,
   "id": "37ea1140-1952-4503-8d32-b75f83c47bc5",
   "metadata": {},
   "outputs": [],
   "source": [
    "def fix_stories(df):\n",
    "    df.STORIES.fillna(0, inplace=True)\n",
    "    return df"
   ]
  },
  {
   "cell_type": "code",
   "execution_count": 37,
   "id": "785b8f11-021e-4158-9636-3f4d554f2e0c",
   "metadata": {},
   "outputs": [],
   "source": [
    "def calculate_dist(df):\n",
    "    cl = []\n",
    "    dist = []\n",
    "    for point in zip(df.Latitude, df.Longitude):\n",
    "        point = np.array(point)\n",
    "        ind, mdis = find_closest_cluster(point, clusters=clusters)\n",
    "        cl += [ind]\n",
    "        dist += [mdis]\n",
    "    df[\"cluster\"] = cl\n",
    "    df[\"dist\"] = dist\n",
    "    return df"
   ]
  },
  {
   "cell_type": "code",
   "execution_count": 38,
   "id": "ed832c16-35a0-4cf4-bb39-a84640b1846a",
   "metadata": {},
   "outputs": [],
   "source": [
    "def drop_columns(df, columns=[\"EASEMENT\", \"Latitude\", \"Longitude\", \"EXLAND\", \"EXTOT\", \"STORIES\", \"cluster\"]):\n",
    "    df = df.drop(columns=columns)\n",
    "    return df"
   ]
  },
  {
   "cell_type": "code",
   "execution_count": 39,
   "id": "9aa30498-5ba9-4edd-9f9e-37992d9f3d2f",
   "metadata": {},
   "outputs": [],
   "source": [
    "result = df.pipe(df_info) \\\n",
    "  .pipe(select_columns, columns=\n",
    "          [\n",
    "           \"BORO\",\n",
    "           \"EASEMENT\",\n",
    "           \"TAXCLASS\",\n",
    "           \"LTFRONT\",\n",
    "           \"Latitude\",\n",
    "           \"Longitude\",\n",
    "           \"LTDEPTH\",\n",
    "           \"AVTOT\",\n",
    "           \"EXLAND\",\n",
    "           \"EXTOT\",\n",
    "           \"STORIES\",\n",
    "           \"YEAR\",\n",
    "           \"FULLVAL\", # Y\n",
    "           #\"NTA\",\n",
    "           #\"NTA_VAL\",\n",
    "           #\"BORO_VAL\",\n",
    "           #\"BLOCK_VAL\"\n",
    "          ]) \\\n",
    "  .pipe(fix_stories) \\\n",
    "  .pipe(encode_easement) \\\n",
    "  .pipe(calculate_dist) \\\n",
    "  .pipe(drop_columns)"
   ]
  },
  {
   "cell_type": "code",
   "execution_count": 15,
   "id": "fb1d1127-a012-4b08-bcd8-34865855e6e0",
   "metadata": {},
   "outputs": [
    {
     "data": {
      "text/plain": [
       "Index(['BORO', 'TAXCLASS', 'LTFRONT', 'LTDEPTH', 'AVTOT', 'YEAR', 'FULLVAL',\n",
       "       'dist'],\n",
       "      dtype='object')"
      ]
     },
     "execution_count": 15,
     "metadata": {},
     "output_type": "execute_result"
    }
   ],
   "source": [
    "result.columns"
   ]
  },
  {
   "cell_type": "markdown",
   "id": "28668843-6901-42a1-8ce3-9a04cf292831",
   "metadata": {},
   "source": [
    "# Model training and predictions"
   ]
  },
  {
   "cell_type": "code",
   "execution_count": 40,
   "id": "96a53d8c-56fd-4683-96e4-1a3572d249be",
   "metadata": {},
   "outputs": [],
   "source": [
    "threshold = 0.1e6"
   ]
  },
  {
   "cell_type": "code",
   "execution_count": 41,
   "id": "cccd7435-f68b-47dd-b8b5-418c693faa29",
   "metadata": {},
   "outputs": [],
   "source": [
    "from pycaret.regression import *"
   ]
  },
  {
   "cell_type": "code",
   "execution_count": 42,
   "id": "ef81e67b-1784-4c8e-84a1-a5a91203f2eb",
   "metadata": {},
   "outputs": [],
   "source": [
    "smol = result[result.AVTOT < threshold]"
   ]
  },
  {
   "cell_type": "code",
   "execution_count": 43,
   "id": "55ab47f0-4b5a-4552-b778-5b3d057fc982",
   "metadata": {},
   "outputs": [
    {
     "data": {
      "text/html": [
       "<style type=\"text/css\">\n",
       "#T_3196d_row42_col1 {\n",
       "  background-color: lightgreen;\n",
       "}\n",
       "</style>\n",
       "<table id=\"T_3196d\">\n",
       "  <thead>\n",
       "    <tr>\n",
       "      <th class=\"blank level0\" >&nbsp;</th>\n",
       "      <th id=\"T_3196d_level0_col0\" class=\"col_heading level0 col0\" >Description</th>\n",
       "      <th id=\"T_3196d_level0_col1\" class=\"col_heading level0 col1\" >Value</th>\n",
       "    </tr>\n",
       "  </thead>\n",
       "  <tbody>\n",
       "    <tr>\n",
       "      <th id=\"T_3196d_level0_row0\" class=\"row_heading level0 row0\" >0</th>\n",
       "      <td id=\"T_3196d_row0_col0\" class=\"data row0 col0\" >session_id</td>\n",
       "      <td id=\"T_3196d_row0_col1\" class=\"data row0 col1\" >7684</td>\n",
       "    </tr>\n",
       "    <tr>\n",
       "      <th id=\"T_3196d_level0_row1\" class=\"row_heading level0 row1\" >1</th>\n",
       "      <td id=\"T_3196d_row1_col0\" class=\"data row1 col0\" >Target</td>\n",
       "      <td id=\"T_3196d_row1_col1\" class=\"data row1 col1\" >FULLVAL</td>\n",
       "    </tr>\n",
       "    <tr>\n",
       "      <th id=\"T_3196d_level0_row2\" class=\"row_heading level0 row2\" >2</th>\n",
       "      <td id=\"T_3196d_row2_col0\" class=\"data row2 col0\" >Original Data</td>\n",
       "      <td id=\"T_3196d_row2_col1\" class=\"data row2 col1\" >(9029, 8)</td>\n",
       "    </tr>\n",
       "    <tr>\n",
       "      <th id=\"T_3196d_level0_row3\" class=\"row_heading level0 row3\" >3</th>\n",
       "      <td id=\"T_3196d_row3_col0\" class=\"data row3 col0\" >Missing Values</td>\n",
       "      <td id=\"T_3196d_row3_col1\" class=\"data row3 col1\" >False</td>\n",
       "    </tr>\n",
       "    <tr>\n",
       "      <th id=\"T_3196d_level0_row4\" class=\"row_heading level0 row4\" >4</th>\n",
       "      <td id=\"T_3196d_row4_col0\" class=\"data row4 col0\" >Numeric Features</td>\n",
       "      <td id=\"T_3196d_row4_col1\" class=\"data row4 col1\" >4</td>\n",
       "    </tr>\n",
       "    <tr>\n",
       "      <th id=\"T_3196d_level0_row5\" class=\"row_heading level0 row5\" >5</th>\n",
       "      <td id=\"T_3196d_row5_col0\" class=\"data row5 col0\" >Categorical Features</td>\n",
       "      <td id=\"T_3196d_row5_col1\" class=\"data row5 col1\" >3</td>\n",
       "    </tr>\n",
       "    <tr>\n",
       "      <th id=\"T_3196d_level0_row6\" class=\"row_heading level0 row6\" >6</th>\n",
       "      <td id=\"T_3196d_row6_col0\" class=\"data row6 col0\" >Ordinal Features</td>\n",
       "      <td id=\"T_3196d_row6_col1\" class=\"data row6 col1\" >False</td>\n",
       "    </tr>\n",
       "    <tr>\n",
       "      <th id=\"T_3196d_level0_row7\" class=\"row_heading level0 row7\" >7</th>\n",
       "      <td id=\"T_3196d_row7_col0\" class=\"data row7 col0\" >High Cardinality Features</td>\n",
       "      <td id=\"T_3196d_row7_col1\" class=\"data row7 col1\" >False</td>\n",
       "    </tr>\n",
       "    <tr>\n",
       "      <th id=\"T_3196d_level0_row8\" class=\"row_heading level0 row8\" >8</th>\n",
       "      <td id=\"T_3196d_row8_col0\" class=\"data row8 col0\" >High Cardinality Method</td>\n",
       "      <td id=\"T_3196d_row8_col1\" class=\"data row8 col1\" >None</td>\n",
       "    </tr>\n",
       "    <tr>\n",
       "      <th id=\"T_3196d_level0_row9\" class=\"row_heading level0 row9\" >9</th>\n",
       "      <td id=\"T_3196d_row9_col0\" class=\"data row9 col0\" >Transformed Train Set</td>\n",
       "      <td id=\"T_3196d_row9_col1\" class=\"data row9 col1\" >(6320, 20)</td>\n",
       "    </tr>\n",
       "    <tr>\n",
       "      <th id=\"T_3196d_level0_row10\" class=\"row_heading level0 row10\" >10</th>\n",
       "      <td id=\"T_3196d_row10_col0\" class=\"data row10 col0\" >Transformed Test Set</td>\n",
       "      <td id=\"T_3196d_row10_col1\" class=\"data row10 col1\" >(2709, 20)</td>\n",
       "    </tr>\n",
       "    <tr>\n",
       "      <th id=\"T_3196d_level0_row11\" class=\"row_heading level0 row11\" >11</th>\n",
       "      <td id=\"T_3196d_row11_col0\" class=\"data row11 col0\" >Shuffle Train-Test</td>\n",
       "      <td id=\"T_3196d_row11_col1\" class=\"data row11 col1\" >True</td>\n",
       "    </tr>\n",
       "    <tr>\n",
       "      <th id=\"T_3196d_level0_row12\" class=\"row_heading level0 row12\" >12</th>\n",
       "      <td id=\"T_3196d_row12_col0\" class=\"data row12 col0\" >Stratify Train-Test</td>\n",
       "      <td id=\"T_3196d_row12_col1\" class=\"data row12 col1\" >False</td>\n",
       "    </tr>\n",
       "    <tr>\n",
       "      <th id=\"T_3196d_level0_row13\" class=\"row_heading level0 row13\" >13</th>\n",
       "      <td id=\"T_3196d_row13_col0\" class=\"data row13 col0\" >Fold Generator</td>\n",
       "      <td id=\"T_3196d_row13_col1\" class=\"data row13 col1\" >KFold</td>\n",
       "    </tr>\n",
       "    <tr>\n",
       "      <th id=\"T_3196d_level0_row14\" class=\"row_heading level0 row14\" >14</th>\n",
       "      <td id=\"T_3196d_row14_col0\" class=\"data row14 col0\" >Fold Number</td>\n",
       "      <td id=\"T_3196d_row14_col1\" class=\"data row14 col1\" >10</td>\n",
       "    </tr>\n",
       "    <tr>\n",
       "      <th id=\"T_3196d_level0_row15\" class=\"row_heading level0 row15\" >15</th>\n",
       "      <td id=\"T_3196d_row15_col0\" class=\"data row15 col0\" >CPU Jobs</td>\n",
       "      <td id=\"T_3196d_row15_col1\" class=\"data row15 col1\" >-1</td>\n",
       "    </tr>\n",
       "    <tr>\n",
       "      <th id=\"T_3196d_level0_row16\" class=\"row_heading level0 row16\" >16</th>\n",
       "      <td id=\"T_3196d_row16_col0\" class=\"data row16 col0\" >Use GPU</td>\n",
       "      <td id=\"T_3196d_row16_col1\" class=\"data row16 col1\" >False</td>\n",
       "    </tr>\n",
       "    <tr>\n",
       "      <th id=\"T_3196d_level0_row17\" class=\"row_heading level0 row17\" >17</th>\n",
       "      <td id=\"T_3196d_row17_col0\" class=\"data row17 col0\" >Log Experiment</td>\n",
       "      <td id=\"T_3196d_row17_col1\" class=\"data row17 col1\" >False</td>\n",
       "    </tr>\n",
       "    <tr>\n",
       "      <th id=\"T_3196d_level0_row18\" class=\"row_heading level0 row18\" >18</th>\n",
       "      <td id=\"T_3196d_row18_col0\" class=\"data row18 col0\" >Experiment Name</td>\n",
       "      <td id=\"T_3196d_row18_col1\" class=\"data row18 col1\" >reg-default-name</td>\n",
       "    </tr>\n",
       "    <tr>\n",
       "      <th id=\"T_3196d_level0_row19\" class=\"row_heading level0 row19\" >19</th>\n",
       "      <td id=\"T_3196d_row19_col0\" class=\"data row19 col0\" >USI</td>\n",
       "      <td id=\"T_3196d_row19_col1\" class=\"data row19 col1\" >5a4e</td>\n",
       "    </tr>\n",
       "    <tr>\n",
       "      <th id=\"T_3196d_level0_row20\" class=\"row_heading level0 row20\" >20</th>\n",
       "      <td id=\"T_3196d_row20_col0\" class=\"data row20 col0\" >Imputation Type</td>\n",
       "      <td id=\"T_3196d_row20_col1\" class=\"data row20 col1\" >simple</td>\n",
       "    </tr>\n",
       "    <tr>\n",
       "      <th id=\"T_3196d_level0_row21\" class=\"row_heading level0 row21\" >21</th>\n",
       "      <td id=\"T_3196d_row21_col0\" class=\"data row21 col0\" >Iterative Imputation Iteration</td>\n",
       "      <td id=\"T_3196d_row21_col1\" class=\"data row21 col1\" >None</td>\n",
       "    </tr>\n",
       "    <tr>\n",
       "      <th id=\"T_3196d_level0_row22\" class=\"row_heading level0 row22\" >22</th>\n",
       "      <td id=\"T_3196d_row22_col0\" class=\"data row22 col0\" >Numeric Imputer</td>\n",
       "      <td id=\"T_3196d_row22_col1\" class=\"data row22 col1\" >mean</td>\n",
       "    </tr>\n",
       "    <tr>\n",
       "      <th id=\"T_3196d_level0_row23\" class=\"row_heading level0 row23\" >23</th>\n",
       "      <td id=\"T_3196d_row23_col0\" class=\"data row23 col0\" >Iterative Imputation Numeric Model</td>\n",
       "      <td id=\"T_3196d_row23_col1\" class=\"data row23 col1\" >None</td>\n",
       "    </tr>\n",
       "    <tr>\n",
       "      <th id=\"T_3196d_level0_row24\" class=\"row_heading level0 row24\" >24</th>\n",
       "      <td id=\"T_3196d_row24_col0\" class=\"data row24 col0\" >Categorical Imputer</td>\n",
       "      <td id=\"T_3196d_row24_col1\" class=\"data row24 col1\" >constant</td>\n",
       "    </tr>\n",
       "    <tr>\n",
       "      <th id=\"T_3196d_level0_row25\" class=\"row_heading level0 row25\" >25</th>\n",
       "      <td id=\"T_3196d_row25_col0\" class=\"data row25 col0\" >Iterative Imputation Categorical Model</td>\n",
       "      <td id=\"T_3196d_row25_col1\" class=\"data row25 col1\" >None</td>\n",
       "    </tr>\n",
       "    <tr>\n",
       "      <th id=\"T_3196d_level0_row26\" class=\"row_heading level0 row26\" >26</th>\n",
       "      <td id=\"T_3196d_row26_col0\" class=\"data row26 col0\" >Unknown Categoricals Handling</td>\n",
       "      <td id=\"T_3196d_row26_col1\" class=\"data row26 col1\" >least_frequent</td>\n",
       "    </tr>\n",
       "    <tr>\n",
       "      <th id=\"T_3196d_level0_row27\" class=\"row_heading level0 row27\" >27</th>\n",
       "      <td id=\"T_3196d_row27_col0\" class=\"data row27 col0\" >Normalize</td>\n",
       "      <td id=\"T_3196d_row27_col1\" class=\"data row27 col1\" >False</td>\n",
       "    </tr>\n",
       "    <tr>\n",
       "      <th id=\"T_3196d_level0_row28\" class=\"row_heading level0 row28\" >28</th>\n",
       "      <td id=\"T_3196d_row28_col0\" class=\"data row28 col0\" >Normalize Method</td>\n",
       "      <td id=\"T_3196d_row28_col1\" class=\"data row28 col1\" >None</td>\n",
       "    </tr>\n",
       "    <tr>\n",
       "      <th id=\"T_3196d_level0_row29\" class=\"row_heading level0 row29\" >29</th>\n",
       "      <td id=\"T_3196d_row29_col0\" class=\"data row29 col0\" >Transformation</td>\n",
       "      <td id=\"T_3196d_row29_col1\" class=\"data row29 col1\" >False</td>\n",
       "    </tr>\n",
       "    <tr>\n",
       "      <th id=\"T_3196d_level0_row30\" class=\"row_heading level0 row30\" >30</th>\n",
       "      <td id=\"T_3196d_row30_col0\" class=\"data row30 col0\" >Transformation Method</td>\n",
       "      <td id=\"T_3196d_row30_col1\" class=\"data row30 col1\" >None</td>\n",
       "    </tr>\n",
       "    <tr>\n",
       "      <th id=\"T_3196d_level0_row31\" class=\"row_heading level0 row31\" >31</th>\n",
       "      <td id=\"T_3196d_row31_col0\" class=\"data row31 col0\" >PCA</td>\n",
       "      <td id=\"T_3196d_row31_col1\" class=\"data row31 col1\" >False</td>\n",
       "    </tr>\n",
       "    <tr>\n",
       "      <th id=\"T_3196d_level0_row32\" class=\"row_heading level0 row32\" >32</th>\n",
       "      <td id=\"T_3196d_row32_col0\" class=\"data row32 col0\" >PCA Method</td>\n",
       "      <td id=\"T_3196d_row32_col1\" class=\"data row32 col1\" >None</td>\n",
       "    </tr>\n",
       "    <tr>\n",
       "      <th id=\"T_3196d_level0_row33\" class=\"row_heading level0 row33\" >33</th>\n",
       "      <td id=\"T_3196d_row33_col0\" class=\"data row33 col0\" >PCA Components</td>\n",
       "      <td id=\"T_3196d_row33_col1\" class=\"data row33 col1\" >None</td>\n",
       "    </tr>\n",
       "    <tr>\n",
       "      <th id=\"T_3196d_level0_row34\" class=\"row_heading level0 row34\" >34</th>\n",
       "      <td id=\"T_3196d_row34_col0\" class=\"data row34 col0\" >Ignore Low Variance</td>\n",
       "      <td id=\"T_3196d_row34_col1\" class=\"data row34 col1\" >False</td>\n",
       "    </tr>\n",
       "    <tr>\n",
       "      <th id=\"T_3196d_level0_row35\" class=\"row_heading level0 row35\" >35</th>\n",
       "      <td id=\"T_3196d_row35_col0\" class=\"data row35 col0\" >Combine Rare Levels</td>\n",
       "      <td id=\"T_3196d_row35_col1\" class=\"data row35 col1\" >False</td>\n",
       "    </tr>\n",
       "    <tr>\n",
       "      <th id=\"T_3196d_level0_row36\" class=\"row_heading level0 row36\" >36</th>\n",
       "      <td id=\"T_3196d_row36_col0\" class=\"data row36 col0\" >Rare Level Threshold</td>\n",
       "      <td id=\"T_3196d_row36_col1\" class=\"data row36 col1\" >None</td>\n",
       "    </tr>\n",
       "    <tr>\n",
       "      <th id=\"T_3196d_level0_row37\" class=\"row_heading level0 row37\" >37</th>\n",
       "      <td id=\"T_3196d_row37_col0\" class=\"data row37 col0\" >Numeric Binning</td>\n",
       "      <td id=\"T_3196d_row37_col1\" class=\"data row37 col1\" >False</td>\n",
       "    </tr>\n",
       "    <tr>\n",
       "      <th id=\"T_3196d_level0_row38\" class=\"row_heading level0 row38\" >38</th>\n",
       "      <td id=\"T_3196d_row38_col0\" class=\"data row38 col0\" >Remove Outliers</td>\n",
       "      <td id=\"T_3196d_row38_col1\" class=\"data row38 col1\" >False</td>\n",
       "    </tr>\n",
       "    <tr>\n",
       "      <th id=\"T_3196d_level0_row39\" class=\"row_heading level0 row39\" >39</th>\n",
       "      <td id=\"T_3196d_row39_col0\" class=\"data row39 col0\" >Outliers Threshold</td>\n",
       "      <td id=\"T_3196d_row39_col1\" class=\"data row39 col1\" >None</td>\n",
       "    </tr>\n",
       "    <tr>\n",
       "      <th id=\"T_3196d_level0_row40\" class=\"row_heading level0 row40\" >40</th>\n",
       "      <td id=\"T_3196d_row40_col0\" class=\"data row40 col0\" >Remove Multicollinearity</td>\n",
       "      <td id=\"T_3196d_row40_col1\" class=\"data row40 col1\" >False</td>\n",
       "    </tr>\n",
       "    <tr>\n",
       "      <th id=\"T_3196d_level0_row41\" class=\"row_heading level0 row41\" >41</th>\n",
       "      <td id=\"T_3196d_row41_col0\" class=\"data row41 col0\" >Multicollinearity Threshold</td>\n",
       "      <td id=\"T_3196d_row41_col1\" class=\"data row41 col1\" >None</td>\n",
       "    </tr>\n",
       "    <tr>\n",
       "      <th id=\"T_3196d_level0_row42\" class=\"row_heading level0 row42\" >42</th>\n",
       "      <td id=\"T_3196d_row42_col0\" class=\"data row42 col0\" >Remove Perfect Collinearity</td>\n",
       "      <td id=\"T_3196d_row42_col1\" class=\"data row42 col1\" >True</td>\n",
       "    </tr>\n",
       "    <tr>\n",
       "      <th id=\"T_3196d_level0_row43\" class=\"row_heading level0 row43\" >43</th>\n",
       "      <td id=\"T_3196d_row43_col0\" class=\"data row43 col0\" >Clustering</td>\n",
       "      <td id=\"T_3196d_row43_col1\" class=\"data row43 col1\" >False</td>\n",
       "    </tr>\n",
       "    <tr>\n",
       "      <th id=\"T_3196d_level0_row44\" class=\"row_heading level0 row44\" >44</th>\n",
       "      <td id=\"T_3196d_row44_col0\" class=\"data row44 col0\" >Clustering Iteration</td>\n",
       "      <td id=\"T_3196d_row44_col1\" class=\"data row44 col1\" >None</td>\n",
       "    </tr>\n",
       "    <tr>\n",
       "      <th id=\"T_3196d_level0_row45\" class=\"row_heading level0 row45\" >45</th>\n",
       "      <td id=\"T_3196d_row45_col0\" class=\"data row45 col0\" >Polynomial Features</td>\n",
       "      <td id=\"T_3196d_row45_col1\" class=\"data row45 col1\" >False</td>\n",
       "    </tr>\n",
       "    <tr>\n",
       "      <th id=\"T_3196d_level0_row46\" class=\"row_heading level0 row46\" >46</th>\n",
       "      <td id=\"T_3196d_row46_col0\" class=\"data row46 col0\" >Polynomial Degree</td>\n",
       "      <td id=\"T_3196d_row46_col1\" class=\"data row46 col1\" >None</td>\n",
       "    </tr>\n",
       "    <tr>\n",
       "      <th id=\"T_3196d_level0_row47\" class=\"row_heading level0 row47\" >47</th>\n",
       "      <td id=\"T_3196d_row47_col0\" class=\"data row47 col0\" >Trignometry Features</td>\n",
       "      <td id=\"T_3196d_row47_col1\" class=\"data row47 col1\" >False</td>\n",
       "    </tr>\n",
       "    <tr>\n",
       "      <th id=\"T_3196d_level0_row48\" class=\"row_heading level0 row48\" >48</th>\n",
       "      <td id=\"T_3196d_row48_col0\" class=\"data row48 col0\" >Polynomial Threshold</td>\n",
       "      <td id=\"T_3196d_row48_col1\" class=\"data row48 col1\" >None</td>\n",
       "    </tr>\n",
       "    <tr>\n",
       "      <th id=\"T_3196d_level0_row49\" class=\"row_heading level0 row49\" >49</th>\n",
       "      <td id=\"T_3196d_row49_col0\" class=\"data row49 col0\" >Group Features</td>\n",
       "      <td id=\"T_3196d_row49_col1\" class=\"data row49 col1\" >False</td>\n",
       "    </tr>\n",
       "    <tr>\n",
       "      <th id=\"T_3196d_level0_row50\" class=\"row_heading level0 row50\" >50</th>\n",
       "      <td id=\"T_3196d_row50_col0\" class=\"data row50 col0\" >Feature Selection</td>\n",
       "      <td id=\"T_3196d_row50_col1\" class=\"data row50 col1\" >False</td>\n",
       "    </tr>\n",
       "    <tr>\n",
       "      <th id=\"T_3196d_level0_row51\" class=\"row_heading level0 row51\" >51</th>\n",
       "      <td id=\"T_3196d_row51_col0\" class=\"data row51 col0\" >Feature Selection Method</td>\n",
       "      <td id=\"T_3196d_row51_col1\" class=\"data row51 col1\" >classic</td>\n",
       "    </tr>\n",
       "    <tr>\n",
       "      <th id=\"T_3196d_level0_row52\" class=\"row_heading level0 row52\" >52</th>\n",
       "      <td id=\"T_3196d_row52_col0\" class=\"data row52 col0\" >Features Selection Threshold</td>\n",
       "      <td id=\"T_3196d_row52_col1\" class=\"data row52 col1\" >None</td>\n",
       "    </tr>\n",
       "    <tr>\n",
       "      <th id=\"T_3196d_level0_row53\" class=\"row_heading level0 row53\" >53</th>\n",
       "      <td id=\"T_3196d_row53_col0\" class=\"data row53 col0\" >Feature Interaction</td>\n",
       "      <td id=\"T_3196d_row53_col1\" class=\"data row53 col1\" >False</td>\n",
       "    </tr>\n",
       "    <tr>\n",
       "      <th id=\"T_3196d_level0_row54\" class=\"row_heading level0 row54\" >54</th>\n",
       "      <td id=\"T_3196d_row54_col0\" class=\"data row54 col0\" >Feature Ratio</td>\n",
       "      <td id=\"T_3196d_row54_col1\" class=\"data row54 col1\" >False</td>\n",
       "    </tr>\n",
       "    <tr>\n",
       "      <th id=\"T_3196d_level0_row55\" class=\"row_heading level0 row55\" >55</th>\n",
       "      <td id=\"T_3196d_row55_col0\" class=\"data row55 col0\" >Interaction Threshold</td>\n",
       "      <td id=\"T_3196d_row55_col1\" class=\"data row55 col1\" >None</td>\n",
       "    </tr>\n",
       "    <tr>\n",
       "      <th id=\"T_3196d_level0_row56\" class=\"row_heading level0 row56\" >56</th>\n",
       "      <td id=\"T_3196d_row56_col0\" class=\"data row56 col0\" >Transform Target</td>\n",
       "      <td id=\"T_3196d_row56_col1\" class=\"data row56 col1\" >False</td>\n",
       "    </tr>\n",
       "    <tr>\n",
       "      <th id=\"T_3196d_level0_row57\" class=\"row_heading level0 row57\" >57</th>\n",
       "      <td id=\"T_3196d_row57_col0\" class=\"data row57 col0\" >Transform Target Method</td>\n",
       "      <td id=\"T_3196d_row57_col1\" class=\"data row57 col1\" >box-cox</td>\n",
       "    </tr>\n",
       "  </tbody>\n",
       "</table>\n"
      ],
      "text/plain": [
       "<pandas.io.formats.style.Styler at 0x7f5b8a4a4ee0>"
      ]
     },
     "metadata": {},
     "output_type": "display_data"
    }
   ],
   "source": [
    "s = setup(smol, target = 'FULLVAL')"
   ]
  },
  {
   "cell_type": "code",
   "execution_count": 44,
   "id": "129239da-d5e3-4dcf-897e-685170cd2871",
   "metadata": {},
   "outputs": [
    {
     "data": {
      "text/html": [
       "<style type=\"text/css\">\n",
       "#T_99e22 th {\n",
       "  text-align: left;\n",
       "}\n",
       "#T_99e22_row0_col0, #T_99e22_row0_col1, #T_99e22_row0_col2, #T_99e22_row0_col3, #T_99e22_row0_col5, #T_99e22_row0_col6, #T_99e22_row1_col0, #T_99e22_row1_col1, #T_99e22_row1_col5, #T_99e22_row1_col6, #T_99e22_row2_col0, #T_99e22_row2_col1, #T_99e22_row2_col2, #T_99e22_row2_col3, #T_99e22_row2_col4, #T_99e22_row2_col5, #T_99e22_row2_col6, #T_99e22_row3_col0, #T_99e22_row3_col2, #T_99e22_row3_col3, #T_99e22_row3_col4, #T_99e22_row3_col6, #T_99e22_row4_col0, #T_99e22_row4_col1, #T_99e22_row4_col2, #T_99e22_row4_col3, #T_99e22_row4_col4, #T_99e22_row4_col5, #T_99e22_row5_col0, #T_99e22_row5_col1, #T_99e22_row5_col2, #T_99e22_row5_col3, #T_99e22_row5_col4, #T_99e22_row5_col5, #T_99e22_row5_col6, #T_99e22_row6_col0, #T_99e22_row6_col1, #T_99e22_row6_col2, #T_99e22_row6_col3, #T_99e22_row6_col4, #T_99e22_row6_col5, #T_99e22_row6_col6, #T_99e22_row7_col0, #T_99e22_row7_col1, #T_99e22_row7_col2, #T_99e22_row7_col3, #T_99e22_row7_col4, #T_99e22_row7_col5, #T_99e22_row7_col6, #T_99e22_row8_col0, #T_99e22_row8_col1, #T_99e22_row8_col2, #T_99e22_row8_col3, #T_99e22_row8_col4, #T_99e22_row8_col5, #T_99e22_row8_col6, #T_99e22_row9_col0, #T_99e22_row9_col1, #T_99e22_row9_col2, #T_99e22_row9_col3, #T_99e22_row9_col4, #T_99e22_row9_col5, #T_99e22_row9_col6, #T_99e22_row10_col0, #T_99e22_row10_col1, #T_99e22_row10_col2, #T_99e22_row10_col3, #T_99e22_row10_col4, #T_99e22_row10_col5, #T_99e22_row10_col6, #T_99e22_row11_col0, #T_99e22_row11_col1, #T_99e22_row11_col2, #T_99e22_row11_col3, #T_99e22_row11_col4, #T_99e22_row11_col5, #T_99e22_row11_col6, #T_99e22_row12_col0, #T_99e22_row12_col1, #T_99e22_row12_col2, #T_99e22_row12_col3, #T_99e22_row12_col4, #T_99e22_row12_col5, #T_99e22_row12_col6, #T_99e22_row13_col0, #T_99e22_row13_col1, #T_99e22_row13_col2, #T_99e22_row13_col3, #T_99e22_row13_col4, #T_99e22_row13_col5, #T_99e22_row13_col6, #T_99e22_row14_col0, #T_99e22_row14_col1, #T_99e22_row14_col2, #T_99e22_row14_col3, #T_99e22_row14_col4, #T_99e22_row14_col5, #T_99e22_row14_col6, #T_99e22_row15_col0, #T_99e22_row15_col1, #T_99e22_row15_col2, #T_99e22_row15_col3, #T_99e22_row15_col4, #T_99e22_row15_col5, #T_99e22_row15_col6, #T_99e22_row16_col0, #T_99e22_row16_col1, #T_99e22_row16_col2, #T_99e22_row16_col3, #T_99e22_row16_col4, #T_99e22_row16_col5, #T_99e22_row16_col6 {\n",
       "  text-align: left;\n",
       "}\n",
       "#T_99e22_row0_col4, #T_99e22_row1_col2, #T_99e22_row1_col3, #T_99e22_row1_col4, #T_99e22_row3_col1, #T_99e22_row3_col5, #T_99e22_row4_col6 {\n",
       "  text-align: left;\n",
       "  background-color: yellow;\n",
       "}\n",
       "#T_99e22_row0_col7, #T_99e22_row1_col7, #T_99e22_row2_col7, #T_99e22_row3_col7, #T_99e22_row4_col7, #T_99e22_row5_col7, #T_99e22_row6_col7, #T_99e22_row7_col7, #T_99e22_row8_col7, #T_99e22_row9_col7, #T_99e22_row10_col7, #T_99e22_row11_col7, #T_99e22_row12_col7, #T_99e22_row13_col7, #T_99e22_row14_col7, #T_99e22_row16_col7 {\n",
       "  text-align: left;\n",
       "  background-color: lightgrey;\n",
       "}\n",
       "#T_99e22_row15_col7 {\n",
       "  text-align: left;\n",
       "  background-color: yellow;\n",
       "  background-color: lightgrey;\n",
       "}\n",
       "</style>\n",
       "<table id=\"T_99e22\">\n",
       "  <thead>\n",
       "    <tr>\n",
       "      <th class=\"blank level0\" >&nbsp;</th>\n",
       "      <th id=\"T_99e22_level0_col0\" class=\"col_heading level0 col0\" >Model</th>\n",
       "      <th id=\"T_99e22_level0_col1\" class=\"col_heading level0 col1\" >MAE</th>\n",
       "      <th id=\"T_99e22_level0_col2\" class=\"col_heading level0 col2\" >MSE</th>\n",
       "      <th id=\"T_99e22_level0_col3\" class=\"col_heading level0 col3\" >RMSE</th>\n",
       "      <th id=\"T_99e22_level0_col4\" class=\"col_heading level0 col4\" >R2</th>\n",
       "      <th id=\"T_99e22_level0_col5\" class=\"col_heading level0 col5\" >RMSLE</th>\n",
       "      <th id=\"T_99e22_level0_col6\" class=\"col_heading level0 col6\" >MAPE</th>\n",
       "      <th id=\"T_99e22_level0_col7\" class=\"col_heading level0 col7\" >TT (Sec)</th>\n",
       "    </tr>\n",
       "  </thead>\n",
       "  <tbody>\n",
       "    <tr>\n",
       "      <th id=\"T_99e22_level0_row0\" class=\"row_heading level0 row0\" >rf</th>\n",
       "      <td id=\"T_99e22_row0_col0\" class=\"data row0 col0\" >Random Forest Regressor</td>\n",
       "      <td id=\"T_99e22_row0_col1\" class=\"data row0 col1\" >94399.4168</td>\n",
       "      <td id=\"T_99e22_row0_col2\" class=\"data row0 col2\" >79551497060.1478</td>\n",
       "      <td id=\"T_99e22_row0_col3\" class=\"data row0 col3\" >278786.9013</td>\n",
       "      <td id=\"T_99e22_row0_col4\" class=\"data row0 col4\" >0.7589</td>\n",
       "      <td id=\"T_99e22_row0_col5\" class=\"data row0 col5\" >0.6619</td>\n",
       "      <td id=\"T_99e22_row0_col6\" class=\"data row0 col6\" >0.2097</td>\n",
       "      <td id=\"T_99e22_row0_col7\" class=\"data row0 col7\" >0.1140</td>\n",
       "    </tr>\n",
       "    <tr>\n",
       "      <th id=\"T_99e22_level0_row1\" class=\"row_heading level0 row1\" >gbr</th>\n",
       "      <td id=\"T_99e22_row1_col0\" class=\"data row1 col0\" >Gradient Boosting Regressor</td>\n",
       "      <td id=\"T_99e22_row1_col1\" class=\"data row1 col1\" >111509.4122</td>\n",
       "      <td id=\"T_99e22_row1_col2\" class=\"data row1 col2\" >79012548203.1951</td>\n",
       "      <td id=\"T_99e22_row1_col3\" class=\"data row1 col3\" >278401.9133</td>\n",
       "      <td id=\"T_99e22_row1_col4\" class=\"data row1 col4\" >0.7589</td>\n",
       "      <td id=\"T_99e22_row1_col5\" class=\"data row1 col5\" >1.7427</td>\n",
       "      <td id=\"T_99e22_row1_col6\" class=\"data row1 col6\" >0.8676</td>\n",
       "      <td id=\"T_99e22_row1_col7\" class=\"data row1 col7\" >0.0650</td>\n",
       "    </tr>\n",
       "    <tr>\n",
       "      <th id=\"T_99e22_level0_row2\" class=\"row_heading level0 row2\" >lightgbm</th>\n",
       "      <td id=\"T_99e22_row2_col0\" class=\"data row2 col0\" >Light Gradient Boosting Machine</td>\n",
       "      <td id=\"T_99e22_row2_col1\" class=\"data row2 col1\" >108089.4911</td>\n",
       "      <td id=\"T_99e22_row2_col2\" class=\"data row2 col2\" >81284743602.1583</td>\n",
       "      <td id=\"T_99e22_row2_col3\" class=\"data row2 col3\" >283171.7194</td>\n",
       "      <td id=\"T_99e22_row2_col4\" class=\"data row2 col4\" >0.7508</td>\n",
       "      <td id=\"T_99e22_row2_col5\" class=\"data row2 col5\" >1.7038</td>\n",
       "      <td id=\"T_99e22_row2_col6\" class=\"data row2 col6\" >0.5244</td>\n",
       "      <td id=\"T_99e22_row2_col7\" class=\"data row2 col7\" >0.0180</td>\n",
       "    </tr>\n",
       "    <tr>\n",
       "      <th id=\"T_99e22_level0_row3\" class=\"row_heading level0 row3\" >et</th>\n",
       "      <td id=\"T_99e22_row3_col0\" class=\"data row3 col0\" >Extra Trees Regressor</td>\n",
       "      <td id=\"T_99e22_row3_col1\" class=\"data row3 col1\" >94086.1672</td>\n",
       "      <td id=\"T_99e22_row3_col2\" class=\"data row3 col2\" >83457588025.7356</td>\n",
       "      <td id=\"T_99e22_row3_col3\" class=\"data row3 col3\" >286405.4245</td>\n",
       "      <td id=\"T_99e22_row3_col4\" class=\"data row3 col4\" >0.7455</td>\n",
       "      <td id=\"T_99e22_row3_col5\" class=\"data row3 col5\" >0.4938</td>\n",
       "      <td id=\"T_99e22_row3_col6\" class=\"data row3 col6\" >0.2072</td>\n",
       "      <td id=\"T_99e22_row3_col7\" class=\"data row3 col7\" >0.0870</td>\n",
       "    </tr>\n",
       "    <tr>\n",
       "      <th id=\"T_99e22_level0_row4\" class=\"row_heading level0 row4\" >dt</th>\n",
       "      <td id=\"T_99e22_row4_col0\" class=\"data row4 col0\" >Decision Tree Regressor</td>\n",
       "      <td id=\"T_99e22_row4_col1\" class=\"data row4 col1\" >120313.7867</td>\n",
       "      <td id=\"T_99e22_row4_col2\" class=\"data row4 col2\" >145557142278.4436</td>\n",
       "      <td id=\"T_99e22_row4_col3\" class=\"data row4 col3\" >376184.8967</td>\n",
       "      <td id=\"T_99e22_row4_col4\" class=\"data row4 col4\" >0.5606</td>\n",
       "      <td id=\"T_99e22_row4_col5\" class=\"data row4 col5\" >0.5042</td>\n",
       "      <td id=\"T_99e22_row4_col6\" class=\"data row4 col6\" >0.2044</td>\n",
       "      <td id=\"T_99e22_row4_col7\" class=\"data row4 col7\" >0.0110</td>\n",
       "    </tr>\n",
       "    <tr>\n",
       "      <th id=\"T_99e22_level0_row5\" class=\"row_heading level0 row5\" >llar</th>\n",
       "      <td id=\"T_99e22_row5_col0\" class=\"data row5 col0\" >Lasso Least Angle Regression</td>\n",
       "      <td id=\"T_99e22_row5_col1\" class=\"data row5 col1\" >203919.5107</td>\n",
       "      <td id=\"T_99e22_row5_col2\" class=\"data row5 col2\" >156721134744.0607</td>\n",
       "      <td id=\"T_99e22_row5_col3\" class=\"data row5 col3\" >393670.4815</td>\n",
       "      <td id=\"T_99e22_row5_col4\" class=\"data row5 col4\" >0.5248</td>\n",
       "      <td id=\"T_99e22_row5_col5\" class=\"data row5 col5\" >2.2058</td>\n",
       "      <td id=\"T_99e22_row5_col6\" class=\"data row5 col6\" >5.3848</td>\n",
       "      <td id=\"T_99e22_row5_col7\" class=\"data row5 col7\" >0.2260</td>\n",
       "    </tr>\n",
       "    <tr>\n",
       "      <th id=\"T_99e22_level0_row6\" class=\"row_heading level0 row6\" >lr</th>\n",
       "      <td id=\"T_99e22_row6_col0\" class=\"data row6 col0\" >Linear Regression</td>\n",
       "      <td id=\"T_99e22_row6_col1\" class=\"data row6 col1\" >203966.9033</td>\n",
       "      <td id=\"T_99e22_row6_col2\" class=\"data row6 col2\" >156780008372.6383</td>\n",
       "      <td id=\"T_99e22_row6_col3\" class=\"data row6 col3\" >393738.5638</td>\n",
       "      <td id=\"T_99e22_row6_col4\" class=\"data row6 col4\" >0.5247</td>\n",
       "      <td id=\"T_99e22_row6_col5\" class=\"data row6 col5\" >2.2064</td>\n",
       "      <td id=\"T_99e22_row6_col6\" class=\"data row6 col6\" >5.3898</td>\n",
       "      <td id=\"T_99e22_row6_col7\" class=\"data row6 col7\" >0.2430</td>\n",
       "    </tr>\n",
       "    <tr>\n",
       "      <th id=\"T_99e22_level0_row7\" class=\"row_heading level0 row7\" >lasso</th>\n",
       "      <td id=\"T_99e22_row7_col0\" class=\"data row7 col0\" >Lasso Regression</td>\n",
       "      <td id=\"T_99e22_row7_col1\" class=\"data row7 col1\" >203945.5100</td>\n",
       "      <td id=\"T_99e22_row7_col2\" class=\"data row7 col2\" >156804837195.9189</td>\n",
       "      <td id=\"T_99e22_row7_col3\" class=\"data row7 col3\" >393765.4749</td>\n",
       "      <td id=\"T_99e22_row7_col4\" class=\"data row7 col4\" >0.5246</td>\n",
       "      <td id=\"T_99e22_row7_col5\" class=\"data row7 col5\" >2.2071</td>\n",
       "      <td id=\"T_99e22_row7_col6\" class=\"data row7 col6\" >5.3917</td>\n",
       "      <td id=\"T_99e22_row7_col7\" class=\"data row7 col7\" >0.1810</td>\n",
       "    </tr>\n",
       "    <tr>\n",
       "      <th id=\"T_99e22_level0_row8\" class=\"row_heading level0 row8\" >br</th>\n",
       "      <td id=\"T_99e22_row8_col0\" class=\"data row8 col0\" >Bayesian Ridge</td>\n",
       "      <td id=\"T_99e22_row8_col1\" class=\"data row8 col1\" >202882.1251</td>\n",
       "      <td id=\"T_99e22_row8_col2\" class=\"data row8 col2\" >156945059565.4381</td>\n",
       "      <td id=\"T_99e22_row8_col3\" class=\"data row8 col3\" >393933.8473</td>\n",
       "      <td id=\"T_99e22_row8_col4\" class=\"data row8 col4\" >0.5242</td>\n",
       "      <td id=\"T_99e22_row8_col5\" class=\"data row8 col5\" >2.2083</td>\n",
       "      <td id=\"T_99e22_row8_col6\" class=\"data row8 col6\" >5.5626</td>\n",
       "      <td id=\"T_99e22_row8_col7\" class=\"data row8 col7\" >0.1450</td>\n",
       "    </tr>\n",
       "    <tr>\n",
       "      <th id=\"T_99e22_level0_row9\" class=\"row_heading level0 row9\" >ridge</th>\n",
       "      <td id=\"T_99e22_row9_col0\" class=\"data row9 col0\" >Ridge Regression</td>\n",
       "      <td id=\"T_99e22_row9_col1\" class=\"data row9 col1\" >202559.0933</td>\n",
       "      <td id=\"T_99e22_row9_col2\" class=\"data row9 col2\" >158375332699.2725</td>\n",
       "      <td id=\"T_99e22_row9_col3\" class=\"data row9 col3\" >395732.9324</td>\n",
       "      <td id=\"T_99e22_row9_col4\" class=\"data row9 col4\" >0.5199</td>\n",
       "      <td id=\"T_99e22_row9_col5\" class=\"data row9 col5\" >2.2116</td>\n",
       "      <td id=\"T_99e22_row9_col6\" class=\"data row9 col6\" >5.9313</td>\n",
       "      <td id=\"T_99e22_row9_col7\" class=\"data row9 col7\" >0.1570</td>\n",
       "    </tr>\n",
       "    <tr>\n",
       "      <th id=\"T_99e22_level0_row10\" class=\"row_heading level0 row10\" >omp</th>\n",
       "      <td id=\"T_99e22_row10_col0\" class=\"data row10 col0\" >Orthogonal Matching Pursuit</td>\n",
       "      <td id=\"T_99e22_row10_col1\" class=\"data row10 col1\" >241897.4200</td>\n",
       "      <td id=\"T_99e22_row10_col2\" class=\"data row10 col2\" >199561633532.6048</td>\n",
       "      <td id=\"T_99e22_row10_col3\" class=\"data row10 col3\" >444580.6968</td>\n",
       "      <td id=\"T_99e22_row10_col4\" class=\"data row10 col4\" >0.3933</td>\n",
       "      <td id=\"T_99e22_row10_col5\" class=\"data row10 col5\" >2.1223</td>\n",
       "      <td id=\"T_99e22_row10_col6\" class=\"data row10 col6\" >2.6359</td>\n",
       "      <td id=\"T_99e22_row10_col7\" class=\"data row10 col7\" >0.1370</td>\n",
       "    </tr>\n",
       "    <tr>\n",
       "      <th id=\"T_99e22_level0_row11\" class=\"row_heading level0 row11\" >en</th>\n",
       "      <td id=\"T_99e22_row11_col0\" class=\"data row11 col0\" >Elastic Net</td>\n",
       "      <td id=\"T_99e22_row11_col1\" class=\"data row11 col1\" >236932.0001</td>\n",
       "      <td id=\"T_99e22_row11_col2\" class=\"data row11 col2\" >249224311727.5116</td>\n",
       "      <td id=\"T_99e22_row11_col3\" class=\"data row11 col3\" >496056.5694</td>\n",
       "      <td id=\"T_99e22_row11_col4\" class=\"data row11 col4\" >0.2467</td>\n",
       "      <td id=\"T_99e22_row11_col5\" class=\"data row11 col5\" >2.2130</td>\n",
       "      <td id=\"T_99e22_row11_col6\" class=\"data row11 col6\" >3.3347</td>\n",
       "      <td id=\"T_99e22_row11_col7\" class=\"data row11 col7\" >0.1230</td>\n",
       "    </tr>\n",
       "    <tr>\n",
       "      <th id=\"T_99e22_level0_row12\" class=\"row_heading level0 row12\" >ada</th>\n",
       "      <td id=\"T_99e22_row12_col0\" class=\"data row12 col0\" >AdaBoost Regressor</td>\n",
       "      <td id=\"T_99e22_row12_col1\" class=\"data row12 col1\" >396540.4097</td>\n",
       "      <td id=\"T_99e22_row12_col2\" class=\"data row12 col2\" >245792791625.5148</td>\n",
       "      <td id=\"T_99e22_row12_col3\" class=\"data row12 col3\" >490537.9087</td>\n",
       "      <td id=\"T_99e22_row12_col4\" class=\"data row12 col4\" >0.2242</td>\n",
       "      <td id=\"T_99e22_row12_col5\" class=\"data row12 col5\" >2.3665</td>\n",
       "      <td id=\"T_99e22_row12_col6\" class=\"data row12 col6\" >7.0263</td>\n",
       "      <td id=\"T_99e22_row12_col7\" class=\"data row12 col7\" >0.0350</td>\n",
       "    </tr>\n",
       "    <tr>\n",
       "      <th id=\"T_99e22_level0_row13\" class=\"row_heading level0 row13\" >knn</th>\n",
       "      <td id=\"T_99e22_row13_col0\" class=\"data row13 col0\" >K Neighbors Regressor</td>\n",
       "      <td id=\"T_99e22_row13_col1\" class=\"data row13 col1\" >262147.2666</td>\n",
       "      <td id=\"T_99e22_row13_col2\" class=\"data row13 col2\" >298667075471.3079</td>\n",
       "      <td id=\"T_99e22_row13_col3\" class=\"data row13 col3\" >543554.0366</td>\n",
       "      <td id=\"T_99e22_row13_col4\" class=\"data row13 col4\" >0.0931</td>\n",
       "      <td id=\"T_99e22_row13_col5\" class=\"data row13 col5\" >0.9036</td>\n",
       "      <td id=\"T_99e22_row13_col6\" class=\"data row13 col6\" >1.1645</td>\n",
       "      <td id=\"T_99e22_row13_col7\" class=\"data row13 col7\" >0.0090</td>\n",
       "    </tr>\n",
       "    <tr>\n",
       "      <th id=\"T_99e22_level0_row14\" class=\"row_heading level0 row14\" >huber</th>\n",
       "      <td id=\"T_99e22_row14_col0\" class=\"data row14 col0\" >Huber Regressor</td>\n",
       "      <td id=\"T_99e22_row14_col1\" class=\"data row14 col1\" >240480.2778</td>\n",
       "      <td id=\"T_99e22_row14_col2\" class=\"data row14 col2\" >313005061666.9023</td>\n",
       "      <td id=\"T_99e22_row14_col3\" class=\"data row14 col3\" >554828.0303</td>\n",
       "      <td id=\"T_99e22_row14_col4\" class=\"data row14 col4\" >0.0540</td>\n",
       "      <td id=\"T_99e22_row14_col5\" class=\"data row14 col5\" >2.0573</td>\n",
       "      <td id=\"T_99e22_row14_col6\" class=\"data row14 col6\" >1.6044</td>\n",
       "      <td id=\"T_99e22_row14_col7\" class=\"data row14 col7\" >0.0140</td>\n",
       "    </tr>\n",
       "    <tr>\n",
       "      <th id=\"T_99e22_level0_row15\" class=\"row_heading level0 row15\" >dummy</th>\n",
       "      <td id=\"T_99e22_row15_col0\" class=\"data row15 col0\" >Dummy Regressor</td>\n",
       "      <td id=\"T_99e22_row15_col1\" class=\"data row15 col1\" >313478.5924</td>\n",
       "      <td id=\"T_99e22_row15_col2\" class=\"data row15 col2\" >330994223960.1202</td>\n",
       "      <td id=\"T_99e22_row15_col3\" class=\"data row15 col3\" >572245.7380</td>\n",
       "      <td id=\"T_99e22_row15_col4\" class=\"data row15 col4\" >-0.0027</td>\n",
       "      <td id=\"T_99e22_row15_col5\" class=\"data row15 col5\" >2.4092</td>\n",
       "      <td id=\"T_99e22_row15_col6\" class=\"data row15 col6\" >8.3523</td>\n",
       "      <td id=\"T_99e22_row15_col7\" class=\"data row15 col7\" >0.0060</td>\n",
       "    </tr>\n",
       "    <tr>\n",
       "      <th id=\"T_99e22_level0_row16\" class=\"row_heading level0 row16\" >par</th>\n",
       "      <td id=\"T_99e22_row16_col0\" class=\"data row16 col0\" >Passive Aggressive Regressor</td>\n",
       "      <td id=\"T_99e22_row16_col1\" class=\"data row16 col1\" >498302.7373</td>\n",
       "      <td id=\"T_99e22_row16_col2\" class=\"data row16 col2\" >888246914842.8582</td>\n",
       "      <td id=\"T_99e22_row16_col3\" class=\"data row16 col3\" >821043.3159</td>\n",
       "      <td id=\"T_99e22_row16_col4\" class=\"data row16 col4\" >-1.5670</td>\n",
       "      <td id=\"T_99e22_row16_col5\" class=\"data row16 col5\" >1.5812</td>\n",
       "      <td id=\"T_99e22_row16_col6\" class=\"data row16 col6\" >2.0813</td>\n",
       "      <td id=\"T_99e22_row16_col7\" class=\"data row16 col7\" >0.1140</td>\n",
       "    </tr>\n",
       "  </tbody>\n",
       "</table>\n"
      ],
      "text/plain": [
       "<pandas.io.formats.style.Styler at 0x7f5b97c0a190>"
      ]
     },
     "metadata": {},
     "output_type": "display_data"
    }
   ],
   "source": [
    "best = compare_models()"
   ]
  },
  {
   "cell_type": "code",
   "execution_count": 45,
   "id": "e00263bc-32d4-4b1c-a07c-099a6bac3d83",
   "metadata": {},
   "outputs": [
    {
     "data": {
      "application/vnd.jupyter.widget-view+json": {
       "model_id": "1ed3972a7b134997be1119cb6894ac50",
       "version_major": 2,
       "version_minor": 0
      },
      "text/plain": [
       "interactive(children=(ToggleButtons(description='Plot Type:', icons=('',), options=(('Hyperparameters', 'param…"
      ]
     },
     "metadata": {},
     "output_type": "display_data"
    }
   ],
   "source": [
    "evaluate_model(best)"
   ]
  },
  {
   "cell_type": "markdown",
   "id": "3de2e5dd-4daf-478a-aee6-cefbb2804f9a",
   "metadata": {},
   "source": [
    "# Save model "
   ]
  },
  {
   "cell_type": "code",
   "execution_count": 46,
   "id": "1cc1bc84-f8a6-4d5c-9d24-7c2143379013",
   "metadata": {},
   "outputs": [
    {
     "data": {
      "text/plain": [
       "RandomForestRegressor(bootstrap=True, ccp_alpha=0.0, criterion='mse',\n",
       "                      max_depth=None, max_features='auto', max_leaf_nodes=None,\n",
       "                      max_samples=None, min_impurity_decrease=0.0,\n",
       "                      min_impurity_split=None, min_samples_leaf=1,\n",
       "                      min_samples_split=2, min_weight_fraction_leaf=0.0,\n",
       "                      n_estimators=100, n_jobs=-1, oob_score=False,\n",
       "                      random_state=7684, verbose=0, warm_start=False)"
      ]
     },
     "execution_count": 46,
     "metadata": {},
     "output_type": "execute_result"
    }
   ],
   "source": [
    "finalize_model(best)"
   ]
  },
  {
   "cell_type": "code",
   "execution_count": 48,
   "id": "1d0c6f04-e564-40e2-9289-5e1ad908bec1",
   "metadata": {},
   "outputs": [
    {
     "name": "stdout",
     "output_type": "stream",
     "text": [
      "Transformation Pipeline and Model Successfully Saved\n"
     ]
    },
    {
     "data": {
      "text/plain": [
       "(Pipeline(memory=None,\n",
       "          steps=[('dtypes',\n",
       "                  DataTypes_Auto_infer(categorical_features=[],\n",
       "                                       display_types=True, features_todrop=[],\n",
       "                                       id_columns=[], ml_usecase='regression',\n",
       "                                       numerical_features=[], target='FULLVAL',\n",
       "                                       time_features=[])),\n",
       "                 ('imputer',\n",
       "                  Simple_Imputer(categorical_strategy='not_available',\n",
       "                                 fill_value_categorical=None,\n",
       "                                 fill_value_numerical=None,\n",
       "                                 numeric_strategy...\n",
       "                  RandomForestRegressor(bootstrap=True, ccp_alpha=0.0,\n",
       "                                        criterion='mse', max_depth=None,\n",
       "                                        max_features='auto', max_leaf_nodes=None,\n",
       "                                        max_samples=None,\n",
       "                                        min_impurity_decrease=0.0,\n",
       "                                        min_impurity_split=None,\n",
       "                                        min_samples_leaf=1, min_samples_split=2,\n",
       "                                        min_weight_fraction_leaf=0.0,\n",
       "                                        n_estimators=100, n_jobs=-1,\n",
       "                                        oob_score=False, random_state=7684,\n",
       "                                        verbose=0, warm_start=False)]],\n",
       "          verbose=False),\n",
       " 'smol_pipeline.pkl')"
      ]
     },
     "execution_count": 48,
     "metadata": {},
     "output_type": "execute_result"
    }
   ],
   "source": [
    "save_model(best, 'smol_pipeline')"
   ]
  },
  {
   "cell_type": "markdown",
   "id": "842c0aff-a53e-4817-9f36-44189bfb65bb",
   "metadata": {},
   "source": [
    "# Predict new data"
   ]
  },
  {
   "cell_type": "code",
   "execution_count": 68,
   "id": "5df82a36-4281-4850-b1ac-0dacc3c59de7",
   "metadata": {},
   "outputs": [
    {
     "name": "stdout",
     "output_type": "stream",
     "text": [
      "Transformation Pipeline and Model Successfully Loaded\n"
     ]
    }
   ],
   "source": [
    "best = load_model('smol_pipeline')"
   ]
  },
  {
   "cell_type": "markdown",
   "id": "ee8c68b0-08e4-457d-8111-111eb3bee305",
   "metadata": {
    "tags": []
   },
   "source": [
    "## Load and transform new data"
   ]
  },
  {
   "cell_type": "code",
   "execution_count": 69,
   "id": "4baf1366-2c54-41ec-8810-89d7c3a16cda",
   "metadata": {},
   "outputs": [],
   "source": [
    "new_data = pd.read_csv(\"test.csv\")"
   ]
  },
  {
   "cell_type": "code",
   "execution_count": 70,
   "id": "8855962f-010a-424d-ba4a-bfb80ede033b",
   "metadata": {},
   "outputs": [],
   "source": [
    "X_new = new_data.pipe(df_info) \\\n",
    "  .pipe(select_columns, columns=\n",
    "          [\n",
    "           \"BORO\",\n",
    "           \"EASEMENT\",\n",
    "           \"TAXCLASS\",\n",
    "           \"LTFRONT\",\n",
    "           \"Latitude\",\n",
    "           \"Longitude\",\n",
    "           \"LTDEPTH\",\n",
    "           \"AVTOT\",\n",
    "           \"EXLAND\",\n",
    "           \"EXTOT\",\n",
    "           \"STORIES\",\n",
    "           \"YEAR\",\n",
    "           #\"FULLVAL\", # Y\n",
    "           #\"NTA\",\n",
    "           #\"NTA_VAL\",\n",
    "           #\"BORO_VAL\",\n",
    "           #\"BLOCK_VAL\"\n",
    "          ]) \\\n",
    "  .pipe(fix_stories) \\\n",
    "  .pipe(encode_easement) \\\n",
    "  .pipe(calculate_dist) \\\n",
    "  .pipe(drop_columns)"
   ]
  },
  {
   "cell_type": "code",
   "execution_count": 71,
   "id": "9b4a6e72-75de-43dc-96aa-37a87acedf30",
   "metadata": {},
   "outputs": [],
   "source": [
    "X_new_smol = X_new[X_new.AVTOT < threshold]"
   ]
  },
  {
   "cell_type": "code",
   "execution_count": 72,
   "id": "aadb2b33-d9b7-4a86-addc-2e610ee9b455",
   "metadata": {},
   "outputs": [],
   "source": [
    "pred = predict_model(best, data = X_new_smol)"
   ]
  },
  {
   "cell_type": "code",
   "execution_count": 73,
   "id": "6a9c761e-c230-488e-89f4-214537a1445c",
   "metadata": {},
   "outputs": [],
   "source": [
    "pred.Label.to_csv(\"pred_smol.csv\")"
   ]
  },
  {
   "cell_type": "code",
   "execution_count": 74,
   "id": "b184680a-f84e-4d55-8cd2-8a11a6ff2e4e",
   "metadata": {},
   "outputs": [
    {
     "data": {
      "text/plain": [
       "[<matplotlib.lines.Line2D at 0x7f5bc4e61a00>]"
      ]
     },
     "execution_count": 74,
     "metadata": {},
     "output_type": "execute_result"
    },
    {
     "data": {
      "image/png": "[encoded data removed]",
      "text/plain": [
       "<Figure size 576x396 with 1 Axes>"
      ]
     },
     "metadata": {},
     "output_type": "display_data"
    }
   ],
   "source": [
    "plt.plot(smol.FULLVAL, pred.Label, 'p')"
   ]
  },
  {
   "cell_type": "code",
   "execution_count": null,
   "id": "24e5ab63-57ae-4ffa-afdf-e5312c9d9d95",
   "metadata": {},
   "outputs": [],
   "source": []
  }
 ],
 "metadata": {
  "kernelspec": {
   "display_name": "Python 3 (ipykernel)",
   "language": "python",
   "name": "python3"
  },
  "language_info": {
   "codemirror_mode": {
    "name": "ipython",
    "version": 3
   },
   "file_extension": ".py",
   "mimetype": "text/x-python",
   "name": "python",
   "nbconvert_exporter": "python",
   "pygments_lexer": "ipython3",
   "version": "3.8.13"
  }
 },
 "nbformat": 4,
 "nbformat_minor": 5
}
