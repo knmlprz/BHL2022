{
 "cells": [
  {
   "cell_type": "code",
   "execution_count": 1,
   "id": "3fbb04ac-2fa7-42a0-aba5-a2ce3b63dd04",
   "metadata": {},
   "outputs": [],
   "source": [
    "import numpy\n",
    "import matplotlib.pylab as plt\n",
    "import pandas as pd\n",
    "import numpy as np\n",
    "import seaborn as sns"
   ]
  },
  {
   "cell_type": "code",
   "execution_count": 2,
   "id": "2ba117b9-27e3-4cc7-b318-ca66318663ce",
   "metadata": {},
   "outputs": [],
   "source": [
    "df = pd.read_csv(\"dataset/train_data.csv\")"
   ]
  },
  {
   "cell_type": "code",
   "execution_count": 3,
   "id": "0a34d084-6ded-4028-9210-cf085acfa5f2",
   "metadata": {},
   "outputs": [
    {
     "data": {
      "text/plain": [
       "Index(['BBLE', 'BORO', 'BLOCK', 'LOT', 'EASEMENT', 'OWNER', 'BLDGCL',\n",
       "       'TAXCLASS', 'LTFRONT', 'LTDEPTH', 'EXT', 'STORIES', 'FULLVAL', 'AVLAND',\n",
       "       'AVTOT', 'EXLAND', 'EXTOT', 'EXCD1', 'STADDR', 'POSTCODE', 'EXMPTCL',\n",
       "       'BLDFRONT', 'BLDDEPTH', 'AVLAND2', 'AVTOT2', 'EXLAND2', 'EXTOT2',\n",
       "       'EXCD2', 'PERIOD', 'YEAR', 'VALTYPE', 'Borough', 'Latitude',\n",
       "       'Longitude', 'Community Board', 'Council District', 'Census Tract',\n",
       "       'BIN', 'NTA', 'New Georeferenced Column'],\n",
       "      dtype='object')"
      ]
     },
     "execution_count": 3,
     "metadata": {},
     "output_type": "execute_result"
    }
   ],
   "source": [
    "df.columns"
   ]
  },
  {
   "cell_type": "code",
   "execution_count": 4,
   "id": "4802a914-1ef4-4a79-839c-38d14036f4f0",
   "metadata": {},
   "outputs": [
    {
     "data": {
      "text/plain": [
       "BBLE                         object\n",
       "BORO                          int64\n",
       "BLOCK                         int64\n",
       "LOT                           int64\n",
       "EASEMENT                     object\n",
       "OWNER                        object\n",
       "BLDGCL                       object\n",
       "TAXCLASS                     object\n",
       "LTFRONT                       int64\n",
       "LTDEPTH                       int64\n",
       "EXT                          object\n",
       "STORIES                     float64\n",
       "FULLVAL                       int64\n",
       "AVLAND                        int64\n",
       "AVTOT                         int64\n",
       "EXLAND                        int64\n",
       "EXTOT                         int64\n",
       "EXCD1                       float64\n",
       "STADDR                       object\n",
       "POSTCODE                    float64\n",
       "EXMPTCL                      object\n",
       "BLDFRONT                      int64\n",
       "BLDDEPTH                      int64\n",
       "AVLAND2                     float64\n",
       "AVTOT2                      float64\n",
       "EXLAND2                     float64\n",
       "EXTOT2                      float64\n",
       "EXCD2                       float64\n",
       "PERIOD                       object\n",
       "YEAR                         object\n",
       "VALTYPE                      object\n",
       "Borough                      object\n",
       "Latitude                    float64\n",
       "Longitude                   float64\n",
       "Community Board             float64\n",
       "Council District            float64\n",
       "Census Tract                float64\n",
       "BIN                         float64\n",
       "NTA                          object\n",
       "New Georeferenced Column     object\n",
       "dtype: object"
      ]
     },
     "execution_count": 4,
     "metadata": {},
     "output_type": "execute_result"
    }
   ],
   "source": [
    "df.dtypes"
   ]
  },
  {
   "cell_type": "code",
   "execution_count": 5,
   "id": "a0674948-3b6b-4b26-bc4b-7850dcc4c84a",
   "metadata": {},
   "outputs": [],
   "source": [
    "def df_info(df):\n",
    "    #print(df.info())\n",
    "    return df"
   ]
  },
  {
   "cell_type": "code",
   "execution_count": 6,
   "id": "e501daa6-aaf5-4945-9240-4f80afc96c97",
   "metadata": {},
   "outputs": [],
   "source": [
    "def select_columns(df, columns=[]):\n",
    "    \"\"\"\n",
    "    Selects columns from `columns`\n",
    "    \"\"\"\n",
    "    return df.loc[:,columns]"
   ]
  },
  {
   "cell_type": "code",
   "execution_count": 7,
   "id": "c40803cd-fb6c-4a72-ba41-ed3ec22b410e",
   "metadata": {},
   "outputs": [],
   "source": [
    "def encode_easement(df):\n",
    "    df.EASEMENT = df.EASEMENT.apply(lambda x: int(len(str(x)) == 1))\n",
    "    return df"
   ]
  },
  {
   "cell_type": "code",
   "execution_count": 8,
   "id": "37ea1140-1952-4503-8d32-b75f83c47bc5",
   "metadata": {},
   "outputs": [],
   "source": [
    "def fix_stories(df):\n",
    "    df.STORIES.fillna(0, inplace=True)\n",
    "    return df"
   ]
  },
  {
   "cell_type": "code",
   "execution_count": 9,
   "id": "ff990728-12d1-4a63-b5f1-7f6c97b62fee",
   "metadata": {},
   "outputs": [],
   "source": [
    "df[\"NTA_VAL\"] = df.NTA.map(df.groupby(\"NTA\").mean().FULLVAL)\n",
    "df[\"BORO_VAL\"] = df.BORO.map(df.groupby(\"BORO\").mean().FULLVAL)\n",
    "df[\"BLOCK_VAL\"] = df.BLOCK.map(df.groupby(\"BLOCK\").mean().FULLVAL)"
   ]
  },
  {
   "cell_type": "code",
   "execution_count": 10,
   "id": "9aa30498-5ba9-4edd-9f9e-37992d9f3d2f",
   "metadata": {},
   "outputs": [],
   "source": [
    "result = df.pipe(df_info) \\\n",
    "  .pipe(select_columns, columns=\n",
    "          [\n",
    "           \"BORO\",\n",
    "           \"EASEMENT\",\n",
    "           \"TAXCLASS\",\n",
    "           \"LTFRONT\",\n",
    "           \"LTDEPTH\",\n",
    "           \"AVTOT\",\n",
    "           \"EXLAND\",\n",
    "           \"EXTOT\",\n",
    "           \"STORIES\",\n",
    "           \"FULLVAL\", # Y\n",
    "           #\"NTA\",\n",
    "           #\"NTA_VAL\",\n",
    "           \"BORO_VAL\",\n",
    "           \"BLOCK_VAL\"\n",
    "          ]) \\\n",
    "  .pipe(fix_stories) \\\n",
    "  .pipe(encode_easement)"
   ]
  },
  {
   "cell_type": "code",
   "execution_count": 11,
   "id": "50b0a929-318d-4bf4-a6c3-60c4bac0edbe",
   "metadata": {},
   "outputs": [
    {
     "data": {
      "text/plain": [
       "BORO         0\n",
       "EASEMENT     0\n",
       "TAXCLASS     0\n",
       "LTFRONT      0\n",
       "LTDEPTH      0\n",
       "AVTOT        0\n",
       "EXLAND       0\n",
       "EXTOT        0\n",
       "STORIES      0\n",
       "FULLVAL      0\n",
       "BORO_VAL     0\n",
       "BLOCK_VAL    0\n",
       "dtype: int64"
      ]
     },
     "execution_count": 11,
     "metadata": {},
     "output_type": "execute_result"
    }
   ],
   "source": [
    "result.isna().sum(axis=0)"
   ]
  },
  {
   "cell_type": "code",
   "execution_count": 12,
   "id": "5369b052-6ed4-47eb-90db-7d392d0398e8",
   "metadata": {},
   "outputs": [],
   "source": [
    "from sklearn.pipeline import Pipeline\n",
    "from sklearn.compose import ColumnTransformer\n",
    "from sklearn.preprocessing import OneHotEncoder"
   ]
  },
  {
   "cell_type": "code",
   "execution_count": 13,
   "id": "abf139d8-00cd-4872-acc4-dcf0a9a5fa77",
   "metadata": {},
   "outputs": [],
   "source": [
    "pipe = Pipeline([\n",
    "        (\"encode_onehot\", \n",
    "            ColumnTransformer(\n",
    "                [\n",
    "                    (\"onehot\", OneHotEncoder(), [\"TAXCLASS\"])\n",
    "                ],\n",
    "                remainder='passthrough'\n",
    "            )\n",
    "        ),     \n",
    "])"
   ]
  },
  {
   "cell_type": "code",
   "execution_count": 14,
   "id": "b2d86de4-122a-40cb-9d5a-225f668dbbed",
   "metadata": {},
   "outputs": [
    {
     "data": {
      "text/plain": [
       "Pipeline(steps=[('encode_onehot',\n",
       "                 ColumnTransformer(remainder='passthrough',\n",
       "                                   transformers=[('onehot', OneHotEncoder(),\n",
       "                                                  ['TAXCLASS'])]))])"
      ]
     },
     "execution_count": 14,
     "metadata": {},
     "output_type": "execute_result"
    }
   ],
   "source": [
    "pipe.fit(result)"
   ]
  },
  {
   "cell_type": "code",
   "execution_count": 15,
   "id": "4c65c64e-a54b-467b-b319-0b8a0ba39a89",
   "metadata": {},
   "outputs": [],
   "source": [
    "pipe.fit(result)\n",
    "X = pipe.transform(result)"
   ]
  },
  {
   "cell_type": "code",
   "execution_count": 16,
   "id": "ad0b6453-ba86-4209-84ad-c82f2840434c",
   "metadata": {},
   "outputs": [],
   "source": [
    "y = df.FULLVAL"
   ]
  },
  {
   "cell_type": "code",
   "execution_count": 17,
   "id": "3d21c184-e037-476e-a2f5-2b3a1688d51c",
   "metadata": {},
   "outputs": [],
   "source": [
    "from sklearn.model_selection import cross_val_score\n",
    "from sklearn.tree import DecisionTreeRegressor"
   ]
  },
  {
   "cell_type": "code",
   "execution_count": 18,
   "id": "b088df22-28df-423d-80fc-a1fe0b5716be",
   "metadata": {},
   "outputs": [
    {
     "data": {
      "text/plain": [
       "array([0.91842921, 0.99241349, 0.99122124, 0.98760344, 0.975597  ,\n",
       "       0.88563405, 0.99054426, 0.98593064, 0.84948731, 0.99029519])"
      ]
     },
     "execution_count": 18,
     "metadata": {},
     "output_type": "execute_result"
    }
   ],
   "source": [
    "regressor = DecisionTreeRegressor(max_depth=5)\n",
    "r = cross_val_score(regressor, X, y, cv=10)\n",
    "r"
   ]
  },
  {
   "cell_type": "code",
   "execution_count": 19,
   "id": "8526a600-8cbb-4488-8296-16ebd79697f2",
   "metadata": {},
   "outputs": [
    {
     "data": {
      "text/plain": [
       "0.9567155819618336"
      ]
     },
     "execution_count": 19,
     "metadata": {},
     "output_type": "execute_result"
    }
   ],
   "source": [
    "np.mean(r)"
   ]
  },
  {
   "cell_type": "code",
   "execution_count": 20,
   "id": "d2f87b8e-856a-4d8e-8d51-96a70d735294",
   "metadata": {},
   "outputs": [
    {
     "data": {
      "text/plain": [
       "DecisionTreeRegressor(max_depth=5)"
      ]
     },
     "execution_count": 20,
     "metadata": {},
     "output_type": "execute_result"
    }
   ],
   "source": [
    "regressor.fit(X, y)"
   ]
  },
  {
   "cell_type": "code",
   "execution_count": 21,
   "id": "9f483f6f-82aa-4deb-8dfa-4719b5f635eb",
   "metadata": {},
   "outputs": [
    {
     "data": {
      "text/plain": [
       "array([0.00000000e+00, 0.00000000e+00, 0.00000000e+00, 0.00000000e+00,\n",
       "       0.00000000e+00, 0.00000000e+00, 0.00000000e+00, 0.00000000e+00,\n",
       "       0.00000000e+00, 0.00000000e+00, 3.77965626e-04, 0.00000000e+00,\n",
       "       0.00000000e+00, 1.52662008e-04, 7.35103120e-01, 4.02273012e-05,\n",
       "       8.23965271e-04, 0.00000000e+00, 2.58286876e-01, 0.00000000e+00,\n",
       "       5.21518346e-03])"
      ]
     },
     "execution_count": 21,
     "metadata": {},
     "output_type": "execute_result"
    }
   ],
   "source": [
    "regressor.feature_importances_"
   ]
  },
  {
   "cell_type": "code",
   "execution_count": 22,
   "id": "cccd7435-f68b-47dd-b8b5-418c693faa29",
   "metadata": {},
   "outputs": [],
   "source": [
    "from pycaret.regression import *"
   ]
  },
  {
   "cell_type": "code",
   "execution_count": 30,
   "id": "ef81e67b-1784-4c8e-84a1-a5a91203f2eb",
   "metadata": {},
   "outputs": [],
   "source": [
    "smol = result[result.FULLVAL < 1e6]"
   ]
  },
  {
   "cell_type": "code",
   "execution_count": 31,
   "id": "55ab47f0-4b5a-4552-b778-5b3d057fc982",
   "metadata": {},
   "outputs": [
    {
     "data": {
      "text/html": [
       "<style type=\"text/css\">\n",
       "#T_6381e_row42_col1 {\n",
       "  background-color: lightgreen;\n",
       "}\n",
       "</style>\n",
       "<table id=\"T_6381e\">\n",
       "  <thead>\n",
       "    <tr>\n",
       "      <th class=\"blank level0\" >&nbsp;</th>\n",
       "      <th id=\"T_6381e_level0_col0\" class=\"col_heading level0 col0\" >Description</th>\n",
       "      <th id=\"T_6381e_level0_col1\" class=\"col_heading level0 col1\" >Value</th>\n",
       "    </tr>\n",
       "  </thead>\n",
       "  <tbody>\n",
       "    <tr>\n",
       "      <th id=\"T_6381e_level0_row0\" class=\"row_heading level0 row0\" >0</th>\n",
       "      <td id=\"T_6381e_row0_col0\" class=\"data row0 col0\" >session_id</td>\n",
       "      <td id=\"T_6381e_row0_col1\" class=\"data row0 col1\" >1710</td>\n",
       "    </tr>\n",
       "    <tr>\n",
       "      <th id=\"T_6381e_level0_row1\" class=\"row_heading level0 row1\" >1</th>\n",
       "      <td id=\"T_6381e_row1_col0\" class=\"data row1 col0\" >Target</td>\n",
       "      <td id=\"T_6381e_row1_col1\" class=\"data row1 col1\" >FULLVAL</td>\n",
       "    </tr>\n",
       "    <tr>\n",
       "      <th id=\"T_6381e_level0_row2\" class=\"row_heading level0 row2\" >2</th>\n",
       "      <td id=\"T_6381e_row2_col0\" class=\"data row2 col0\" >Original Data</td>\n",
       "      <td id=\"T_6381e_row2_col1\" class=\"data row2 col1\" >(9931, 12)</td>\n",
       "    </tr>\n",
       "    <tr>\n",
       "      <th id=\"T_6381e_level0_row3\" class=\"row_heading level0 row3\" >3</th>\n",
       "      <td id=\"T_6381e_row3_col0\" class=\"data row3 col0\" >Missing Values</td>\n",
       "      <td id=\"T_6381e_row3_col1\" class=\"data row3 col1\" >False</td>\n",
       "    </tr>\n",
       "    <tr>\n",
       "      <th id=\"T_6381e_level0_row4\" class=\"row_heading level0 row4\" >4</th>\n",
       "      <td id=\"T_6381e_row4_col0\" class=\"data row4 col0\" >Numeric Features</td>\n",
       "      <td id=\"T_6381e_row4_col1\" class=\"data row4 col1\" >8</td>\n",
       "    </tr>\n",
       "    <tr>\n",
       "      <th id=\"T_6381e_level0_row5\" class=\"row_heading level0 row5\" >5</th>\n",
       "      <td id=\"T_6381e_row5_col0\" class=\"data row5 col0\" >Categorical Features</td>\n",
       "      <td id=\"T_6381e_row5_col1\" class=\"data row5 col1\" >3</td>\n",
       "    </tr>\n",
       "    <tr>\n",
       "      <th id=\"T_6381e_level0_row6\" class=\"row_heading level0 row6\" >6</th>\n",
       "      <td id=\"T_6381e_row6_col0\" class=\"data row6 col0\" >Ordinal Features</td>\n",
       "      <td id=\"T_6381e_row6_col1\" class=\"data row6 col1\" >False</td>\n",
       "    </tr>\n",
       "    <tr>\n",
       "      <th id=\"T_6381e_level0_row7\" class=\"row_heading level0 row7\" >7</th>\n",
       "      <td id=\"T_6381e_row7_col0\" class=\"data row7 col0\" >High Cardinality Features</td>\n",
       "      <td id=\"T_6381e_row7_col1\" class=\"data row7 col1\" >False</td>\n",
       "    </tr>\n",
       "    <tr>\n",
       "      <th id=\"T_6381e_level0_row8\" class=\"row_heading level0 row8\" >8</th>\n",
       "      <td id=\"T_6381e_row8_col0\" class=\"data row8 col0\" >High Cardinality Method</td>\n",
       "      <td id=\"T_6381e_row8_col1\" class=\"data row8 col1\" >None</td>\n",
       "    </tr>\n",
       "    <tr>\n",
       "      <th id=\"T_6381e_level0_row9\" class=\"row_heading level0 row9\" >9</th>\n",
       "      <td id=\"T_6381e_row9_col0\" class=\"data row9 col0\" >Transformed Train Set</td>\n",
       "      <td id=\"T_6381e_row9_col1\" class=\"data row9 col1\" >(6951, 24)</td>\n",
       "    </tr>\n",
       "    <tr>\n",
       "      <th id=\"T_6381e_level0_row10\" class=\"row_heading level0 row10\" >10</th>\n",
       "      <td id=\"T_6381e_row10_col0\" class=\"data row10 col0\" >Transformed Test Set</td>\n",
       "      <td id=\"T_6381e_row10_col1\" class=\"data row10 col1\" >(2980, 24)</td>\n",
       "    </tr>\n",
       "    <tr>\n",
       "      <th id=\"T_6381e_level0_row11\" class=\"row_heading level0 row11\" >11</th>\n",
       "      <td id=\"T_6381e_row11_col0\" class=\"data row11 col0\" >Shuffle Train-Test</td>\n",
       "      <td id=\"T_6381e_row11_col1\" class=\"data row11 col1\" >True</td>\n",
       "    </tr>\n",
       "    <tr>\n",
       "      <th id=\"T_6381e_level0_row12\" class=\"row_heading level0 row12\" >12</th>\n",
       "      <td id=\"T_6381e_row12_col0\" class=\"data row12 col0\" >Stratify Train-Test</td>\n",
       "      <td id=\"T_6381e_row12_col1\" class=\"data row12 col1\" >False</td>\n",
       "    </tr>\n",
       "    <tr>\n",
       "      <th id=\"T_6381e_level0_row13\" class=\"row_heading level0 row13\" >13</th>\n",
       "      <td id=\"T_6381e_row13_col0\" class=\"data row13 col0\" >Fold Generator</td>\n",
       "      <td id=\"T_6381e_row13_col1\" class=\"data row13 col1\" >KFold</td>\n",
       "    </tr>\n",
       "    <tr>\n",
       "      <th id=\"T_6381e_level0_row14\" class=\"row_heading level0 row14\" >14</th>\n",
       "      <td id=\"T_6381e_row14_col0\" class=\"data row14 col0\" >Fold Number</td>\n",
       "      <td id=\"T_6381e_row14_col1\" class=\"data row14 col1\" >10</td>\n",
       "    </tr>\n",
       "    <tr>\n",
       "      <th id=\"T_6381e_level0_row15\" class=\"row_heading level0 row15\" >15</th>\n",
       "      <td id=\"T_6381e_row15_col0\" class=\"data row15 col0\" >CPU Jobs</td>\n",
       "      <td id=\"T_6381e_row15_col1\" class=\"data row15 col1\" >-1</td>\n",
       "    </tr>\n",
       "    <tr>\n",
       "      <th id=\"T_6381e_level0_row16\" class=\"row_heading level0 row16\" >16</th>\n",
       "      <td id=\"T_6381e_row16_col0\" class=\"data row16 col0\" >Use GPU</td>\n",
       "      <td id=\"T_6381e_row16_col1\" class=\"data row16 col1\" >False</td>\n",
       "    </tr>\n",
       "    <tr>\n",
       "      <th id=\"T_6381e_level0_row17\" class=\"row_heading level0 row17\" >17</th>\n",
       "      <td id=\"T_6381e_row17_col0\" class=\"data row17 col0\" >Log Experiment</td>\n",
       "      <td id=\"T_6381e_row17_col1\" class=\"data row17 col1\" >False</td>\n",
       "    </tr>\n",
       "    <tr>\n",
       "      <th id=\"T_6381e_level0_row18\" class=\"row_heading level0 row18\" >18</th>\n",
       "      <td id=\"T_6381e_row18_col0\" class=\"data row18 col0\" >Experiment Name</td>\n",
       "      <td id=\"T_6381e_row18_col1\" class=\"data row18 col1\" >reg-default-name</td>\n",
       "    </tr>\n",
       "    <tr>\n",
       "      <th id=\"T_6381e_level0_row19\" class=\"row_heading level0 row19\" >19</th>\n",
       "      <td id=\"T_6381e_row19_col0\" class=\"data row19 col0\" >USI</td>\n",
       "      <td id=\"T_6381e_row19_col1\" class=\"data row19 col1\" >e0ee</td>\n",
       "    </tr>\n",
       "    <tr>\n",
       "      <th id=\"T_6381e_level0_row20\" class=\"row_heading level0 row20\" >20</th>\n",
       "      <td id=\"T_6381e_row20_col0\" class=\"data row20 col0\" >Imputation Type</td>\n",
       "      <td id=\"T_6381e_row20_col1\" class=\"data row20 col1\" >simple</td>\n",
       "    </tr>\n",
       "    <tr>\n",
       "      <th id=\"T_6381e_level0_row21\" class=\"row_heading level0 row21\" >21</th>\n",
       "      <td id=\"T_6381e_row21_col0\" class=\"data row21 col0\" >Iterative Imputation Iteration</td>\n",
       "      <td id=\"T_6381e_row21_col1\" class=\"data row21 col1\" >None</td>\n",
       "    </tr>\n",
       "    <tr>\n",
       "      <th id=\"T_6381e_level0_row22\" class=\"row_heading level0 row22\" >22</th>\n",
       "      <td id=\"T_6381e_row22_col0\" class=\"data row22 col0\" >Numeric Imputer</td>\n",
       "      <td id=\"T_6381e_row22_col1\" class=\"data row22 col1\" >mean</td>\n",
       "    </tr>\n",
       "    <tr>\n",
       "      <th id=\"T_6381e_level0_row23\" class=\"row_heading level0 row23\" >23</th>\n",
       "      <td id=\"T_6381e_row23_col0\" class=\"data row23 col0\" >Iterative Imputation Numeric Model</td>\n",
       "      <td id=\"T_6381e_row23_col1\" class=\"data row23 col1\" >None</td>\n",
       "    </tr>\n",
       "    <tr>\n",
       "      <th id=\"T_6381e_level0_row24\" class=\"row_heading level0 row24\" >24</th>\n",
       "      <td id=\"T_6381e_row24_col0\" class=\"data row24 col0\" >Categorical Imputer</td>\n",
       "      <td id=\"T_6381e_row24_col1\" class=\"data row24 col1\" >constant</td>\n",
       "    </tr>\n",
       "    <tr>\n",
       "      <th id=\"T_6381e_level0_row25\" class=\"row_heading level0 row25\" >25</th>\n",
       "      <td id=\"T_6381e_row25_col0\" class=\"data row25 col0\" >Iterative Imputation Categorical Model</td>\n",
       "      <td id=\"T_6381e_row25_col1\" class=\"data row25 col1\" >None</td>\n",
       "    </tr>\n",
       "    <tr>\n",
       "      <th id=\"T_6381e_level0_row26\" class=\"row_heading level0 row26\" >26</th>\n",
       "      <td id=\"T_6381e_row26_col0\" class=\"data row26 col0\" >Unknown Categoricals Handling</td>\n",
       "      <td id=\"T_6381e_row26_col1\" class=\"data row26 col1\" >least_frequent</td>\n",
       "    </tr>\n",
       "    <tr>\n",
       "      <th id=\"T_6381e_level0_row27\" class=\"row_heading level0 row27\" >27</th>\n",
       "      <td id=\"T_6381e_row27_col0\" class=\"data row27 col0\" >Normalize</td>\n",
       "      <td id=\"T_6381e_row27_col1\" class=\"data row27 col1\" >False</td>\n",
       "    </tr>\n",
       "    <tr>\n",
       "      <th id=\"T_6381e_level0_row28\" class=\"row_heading level0 row28\" >28</th>\n",
       "      <td id=\"T_6381e_row28_col0\" class=\"data row28 col0\" >Normalize Method</td>\n",
       "      <td id=\"T_6381e_row28_col1\" class=\"data row28 col1\" >None</td>\n",
       "    </tr>\n",
       "    <tr>\n",
       "      <th id=\"T_6381e_level0_row29\" class=\"row_heading level0 row29\" >29</th>\n",
       "      <td id=\"T_6381e_row29_col0\" class=\"data row29 col0\" >Transformation</td>\n",
       "      <td id=\"T_6381e_row29_col1\" class=\"data row29 col1\" >False</td>\n",
       "    </tr>\n",
       "    <tr>\n",
       "      <th id=\"T_6381e_level0_row30\" class=\"row_heading level0 row30\" >30</th>\n",
       "      <td id=\"T_6381e_row30_col0\" class=\"data row30 col0\" >Transformation Method</td>\n",
       "      <td id=\"T_6381e_row30_col1\" class=\"data row30 col1\" >None</td>\n",
       "    </tr>\n",
       "    <tr>\n",
       "      <th id=\"T_6381e_level0_row31\" class=\"row_heading level0 row31\" >31</th>\n",
       "      <td id=\"T_6381e_row31_col0\" class=\"data row31 col0\" >PCA</td>\n",
       "      <td id=\"T_6381e_row31_col1\" class=\"data row31 col1\" >False</td>\n",
       "    </tr>\n",
       "    <tr>\n",
       "      <th id=\"T_6381e_level0_row32\" class=\"row_heading level0 row32\" >32</th>\n",
       "      <td id=\"T_6381e_row32_col0\" class=\"data row32 col0\" >PCA Method</td>\n",
       "      <td id=\"T_6381e_row32_col1\" class=\"data row32 col1\" >None</td>\n",
       "    </tr>\n",
       "    <tr>\n",
       "      <th id=\"T_6381e_level0_row33\" class=\"row_heading level0 row33\" >33</th>\n",
       "      <td id=\"T_6381e_row33_col0\" class=\"data row33 col0\" >PCA Components</td>\n",
       "      <td id=\"T_6381e_row33_col1\" class=\"data row33 col1\" >None</td>\n",
       "    </tr>\n",
       "    <tr>\n",
       "      <th id=\"T_6381e_level0_row34\" class=\"row_heading level0 row34\" >34</th>\n",
       "      <td id=\"T_6381e_row34_col0\" class=\"data row34 col0\" >Ignore Low Variance</td>\n",
       "      <td id=\"T_6381e_row34_col1\" class=\"data row34 col1\" >False</td>\n",
       "    </tr>\n",
       "    <tr>\n",
       "      <th id=\"T_6381e_level0_row35\" class=\"row_heading level0 row35\" >35</th>\n",
       "      <td id=\"T_6381e_row35_col0\" class=\"data row35 col0\" >Combine Rare Levels</td>\n",
       "      <td id=\"T_6381e_row35_col1\" class=\"data row35 col1\" >False</td>\n",
       "    </tr>\n",
       "    <tr>\n",
       "      <th id=\"T_6381e_level0_row36\" class=\"row_heading level0 row36\" >36</th>\n",
       "      <td id=\"T_6381e_row36_col0\" class=\"data row36 col0\" >Rare Level Threshold</td>\n",
       "      <td id=\"T_6381e_row36_col1\" class=\"data row36 col1\" >None</td>\n",
       "    </tr>\n",
       "    <tr>\n",
       "      <th id=\"T_6381e_level0_row37\" class=\"row_heading level0 row37\" >37</th>\n",
       "      <td id=\"T_6381e_row37_col0\" class=\"data row37 col0\" >Numeric Binning</td>\n",
       "      <td id=\"T_6381e_row37_col1\" class=\"data row37 col1\" >False</td>\n",
       "    </tr>\n",
       "    <tr>\n",
       "      <th id=\"T_6381e_level0_row38\" class=\"row_heading level0 row38\" >38</th>\n",
       "      <td id=\"T_6381e_row38_col0\" class=\"data row38 col0\" >Remove Outliers</td>\n",
       "      <td id=\"T_6381e_row38_col1\" class=\"data row38 col1\" >False</td>\n",
       "    </tr>\n",
       "    <tr>\n",
       "      <th id=\"T_6381e_level0_row39\" class=\"row_heading level0 row39\" >39</th>\n",
       "      <td id=\"T_6381e_row39_col0\" class=\"data row39 col0\" >Outliers Threshold</td>\n",
       "      <td id=\"T_6381e_row39_col1\" class=\"data row39 col1\" >None</td>\n",
       "    </tr>\n",
       "    <tr>\n",
       "      <th id=\"T_6381e_level0_row40\" class=\"row_heading level0 row40\" >40</th>\n",
       "      <td id=\"T_6381e_row40_col0\" class=\"data row40 col0\" >Remove Multicollinearity</td>\n",
       "      <td id=\"T_6381e_row40_col1\" class=\"data row40 col1\" >False</td>\n",
       "    </tr>\n",
       "    <tr>\n",
       "      <th id=\"T_6381e_level0_row41\" class=\"row_heading level0 row41\" >41</th>\n",
       "      <td id=\"T_6381e_row41_col0\" class=\"data row41 col0\" >Multicollinearity Threshold</td>\n",
       "      <td id=\"T_6381e_row41_col1\" class=\"data row41 col1\" >None</td>\n",
       "    </tr>\n",
       "    <tr>\n",
       "      <th id=\"T_6381e_level0_row42\" class=\"row_heading level0 row42\" >42</th>\n",
       "      <td id=\"T_6381e_row42_col0\" class=\"data row42 col0\" >Remove Perfect Collinearity</td>\n",
       "      <td id=\"T_6381e_row42_col1\" class=\"data row42 col1\" >True</td>\n",
       "    </tr>\n",
       "    <tr>\n",
       "      <th id=\"T_6381e_level0_row43\" class=\"row_heading level0 row43\" >43</th>\n",
       "      <td id=\"T_6381e_row43_col0\" class=\"data row43 col0\" >Clustering</td>\n",
       "      <td id=\"T_6381e_row43_col1\" class=\"data row43 col1\" >False</td>\n",
       "    </tr>\n",
       "    <tr>\n",
       "      <th id=\"T_6381e_level0_row44\" class=\"row_heading level0 row44\" >44</th>\n",
       "      <td id=\"T_6381e_row44_col0\" class=\"data row44 col0\" >Clustering Iteration</td>\n",
       "      <td id=\"T_6381e_row44_col1\" class=\"data row44 col1\" >None</td>\n",
       "    </tr>\n",
       "    <tr>\n",
       "      <th id=\"T_6381e_level0_row45\" class=\"row_heading level0 row45\" >45</th>\n",
       "      <td id=\"T_6381e_row45_col0\" class=\"data row45 col0\" >Polynomial Features</td>\n",
       "      <td id=\"T_6381e_row45_col1\" class=\"data row45 col1\" >False</td>\n",
       "    </tr>\n",
       "    <tr>\n",
       "      <th id=\"T_6381e_level0_row46\" class=\"row_heading level0 row46\" >46</th>\n",
       "      <td id=\"T_6381e_row46_col0\" class=\"data row46 col0\" >Polynomial Degree</td>\n",
       "      <td id=\"T_6381e_row46_col1\" class=\"data row46 col1\" >None</td>\n",
       "    </tr>\n",
       "    <tr>\n",
       "      <th id=\"T_6381e_level0_row47\" class=\"row_heading level0 row47\" >47</th>\n",
       "      <td id=\"T_6381e_row47_col0\" class=\"data row47 col0\" >Trignometry Features</td>\n",
       "      <td id=\"T_6381e_row47_col1\" class=\"data row47 col1\" >False</td>\n",
       "    </tr>\n",
       "    <tr>\n",
       "      <th id=\"T_6381e_level0_row48\" class=\"row_heading level0 row48\" >48</th>\n",
       "      <td id=\"T_6381e_row48_col0\" class=\"data row48 col0\" >Polynomial Threshold</td>\n",
       "      <td id=\"T_6381e_row48_col1\" class=\"data row48 col1\" >None</td>\n",
       "    </tr>\n",
       "    <tr>\n",
       "      <th id=\"T_6381e_level0_row49\" class=\"row_heading level0 row49\" >49</th>\n",
       "      <td id=\"T_6381e_row49_col0\" class=\"data row49 col0\" >Group Features</td>\n",
       "      <td id=\"T_6381e_row49_col1\" class=\"data row49 col1\" >False</td>\n",
       "    </tr>\n",
       "    <tr>\n",
       "      <th id=\"T_6381e_level0_row50\" class=\"row_heading level0 row50\" >50</th>\n",
       "      <td id=\"T_6381e_row50_col0\" class=\"data row50 col0\" >Feature Selection</td>\n",
       "      <td id=\"T_6381e_row50_col1\" class=\"data row50 col1\" >False</td>\n",
       "    </tr>\n",
       "    <tr>\n",
       "      <th id=\"T_6381e_level0_row51\" class=\"row_heading level0 row51\" >51</th>\n",
       "      <td id=\"T_6381e_row51_col0\" class=\"data row51 col0\" >Feature Selection Method</td>\n",
       "      <td id=\"T_6381e_row51_col1\" class=\"data row51 col1\" >classic</td>\n",
       "    </tr>\n",
       "    <tr>\n",
       "      <th id=\"T_6381e_level0_row52\" class=\"row_heading level0 row52\" >52</th>\n",
       "      <td id=\"T_6381e_row52_col0\" class=\"data row52 col0\" >Features Selection Threshold</td>\n",
       "      <td id=\"T_6381e_row52_col1\" class=\"data row52 col1\" >None</td>\n",
       "    </tr>\n",
       "    <tr>\n",
       "      <th id=\"T_6381e_level0_row53\" class=\"row_heading level0 row53\" >53</th>\n",
       "      <td id=\"T_6381e_row53_col0\" class=\"data row53 col0\" >Feature Interaction</td>\n",
       "      <td id=\"T_6381e_row53_col1\" class=\"data row53 col1\" >False</td>\n",
       "    </tr>\n",
       "    <tr>\n",
       "      <th id=\"T_6381e_level0_row54\" class=\"row_heading level0 row54\" >54</th>\n",
       "      <td id=\"T_6381e_row54_col0\" class=\"data row54 col0\" >Feature Ratio</td>\n",
       "      <td id=\"T_6381e_row54_col1\" class=\"data row54 col1\" >False</td>\n",
       "    </tr>\n",
       "    <tr>\n",
       "      <th id=\"T_6381e_level0_row55\" class=\"row_heading level0 row55\" >55</th>\n",
       "      <td id=\"T_6381e_row55_col0\" class=\"data row55 col0\" >Interaction Threshold</td>\n",
       "      <td id=\"T_6381e_row55_col1\" class=\"data row55 col1\" >None</td>\n",
       "    </tr>\n",
       "    <tr>\n",
       "      <th id=\"T_6381e_level0_row56\" class=\"row_heading level0 row56\" >56</th>\n",
       "      <td id=\"T_6381e_row56_col0\" class=\"data row56 col0\" >Transform Target</td>\n",
       "      <td id=\"T_6381e_row56_col1\" class=\"data row56 col1\" >False</td>\n",
       "    </tr>\n",
       "    <tr>\n",
       "      <th id=\"T_6381e_level0_row57\" class=\"row_heading level0 row57\" >57</th>\n",
       "      <td id=\"T_6381e_row57_col0\" class=\"data row57 col0\" >Transform Target Method</td>\n",
       "      <td id=\"T_6381e_row57_col1\" class=\"data row57 col1\" >box-cox</td>\n",
       "    </tr>\n",
       "  </tbody>\n",
       "</table>\n"
      ],
      "text/plain": [
       "<pandas.io.formats.style.Styler at 0x7f895bd3d3d0>"
      ]
     },
     "metadata": {},
     "output_type": "display_data"
    }
   ],
   "source": [
    "s = setup(smol, target = 'FULLVAL')"
   ]
  },
  {
   "cell_type": "code",
   "execution_count": 32,
   "id": "129239da-d5e3-4dcf-897e-685170cd2871",
   "metadata": {},
   "outputs": [
    {
     "data": {
      "text/html": [
       "<style type=\"text/css\">\n",
       "#T_588fb th {\n",
       "  text-align: left;\n",
       "}\n",
       "#T_588fb_row0_col0, #T_588fb_row0_col5, #T_588fb_row1_col0, #T_588fb_row1_col1, #T_588fb_row1_col2, #T_588fb_row1_col3, #T_588fb_row1_col4, #T_588fb_row1_col5, #T_588fb_row1_col6, #T_588fb_row2_col0, #T_588fb_row2_col1, #T_588fb_row2_col2, #T_588fb_row2_col3, #T_588fb_row2_col4, #T_588fb_row2_col5, #T_588fb_row2_col6, #T_588fb_row3_col0, #T_588fb_row3_col1, #T_588fb_row3_col2, #T_588fb_row3_col3, #T_588fb_row3_col4, #T_588fb_row3_col5, #T_588fb_row3_col6, #T_588fb_row4_col0, #T_588fb_row4_col1, #T_588fb_row4_col2, #T_588fb_row4_col3, #T_588fb_row4_col4, #T_588fb_row4_col6, #T_588fb_row5_col0, #T_588fb_row5_col1, #T_588fb_row5_col2, #T_588fb_row5_col3, #T_588fb_row5_col4, #T_588fb_row5_col5, #T_588fb_row5_col6, #T_588fb_row6_col0, #T_588fb_row6_col1, #T_588fb_row6_col2, #T_588fb_row6_col3, #T_588fb_row6_col4, #T_588fb_row6_col5, #T_588fb_row6_col6, #T_588fb_row7_col0, #T_588fb_row7_col1, #T_588fb_row7_col2, #T_588fb_row7_col3, #T_588fb_row7_col4, #T_588fb_row7_col5, #T_588fb_row7_col6, #T_588fb_row8_col0, #T_588fb_row8_col1, #T_588fb_row8_col2, #T_588fb_row8_col3, #T_588fb_row8_col4, #T_588fb_row8_col5, #T_588fb_row8_col6, #T_588fb_row9_col0, #T_588fb_row9_col1, #T_588fb_row9_col2, #T_588fb_row9_col3, #T_588fb_row9_col4, #T_588fb_row9_col5, #T_588fb_row9_col6, #T_588fb_row10_col0, #T_588fb_row10_col1, #T_588fb_row10_col2, #T_588fb_row10_col3, #T_588fb_row10_col4, #T_588fb_row10_col5, #T_588fb_row10_col6, #T_588fb_row11_col0, #T_588fb_row11_col1, #T_588fb_row11_col2, #T_588fb_row11_col3, #T_588fb_row11_col4, #T_588fb_row11_col5, #T_588fb_row11_col6, #T_588fb_row12_col0, #T_588fb_row12_col1, #T_588fb_row12_col2, #T_588fb_row12_col3, #T_588fb_row12_col4, #T_588fb_row12_col5, #T_588fb_row12_col6, #T_588fb_row13_col0, #T_588fb_row13_col1, #T_588fb_row13_col2, #T_588fb_row13_col3, #T_588fb_row13_col4, #T_588fb_row13_col5, #T_588fb_row13_col6, #T_588fb_row14_col0, #T_588fb_row14_col1, #T_588fb_row14_col2, #T_588fb_row14_col3, #T_588fb_row14_col4, #T_588fb_row14_col5, #T_588fb_row14_col6, #T_588fb_row15_col0, #T_588fb_row15_col1, #T_588fb_row15_col2, #T_588fb_row15_col3, #T_588fb_row15_col4, #T_588fb_row15_col5, #T_588fb_row15_col6, #T_588fb_row16_col0, #T_588fb_row16_col1, #T_588fb_row16_col2, #T_588fb_row16_col3, #T_588fb_row16_col4, #T_588fb_row16_col5, #T_588fb_row16_col6, #T_588fb_row17_col0, #T_588fb_row17_col1, #T_588fb_row17_col2, #T_588fb_row17_col3, #T_588fb_row17_col4, #T_588fb_row17_col5, #T_588fb_row17_col6 {\n",
       "  text-align: left;\n",
       "}\n",
       "#T_588fb_row0_col1, #T_588fb_row0_col2, #T_588fb_row0_col3, #T_588fb_row0_col4, #T_588fb_row0_col6, #T_588fb_row4_col5 {\n",
       "  text-align: left;\n",
       "  background-color: yellow;\n",
       "}\n",
       "#T_588fb_row0_col7, #T_588fb_row1_col7, #T_588fb_row2_col7, #T_588fb_row3_col7, #T_588fb_row4_col7, #T_588fb_row5_col7, #T_588fb_row6_col7, #T_588fb_row7_col7, #T_588fb_row8_col7, #T_588fb_row9_col7, #T_588fb_row10_col7, #T_588fb_row11_col7, #T_588fb_row12_col7, #T_588fb_row13_col7, #T_588fb_row15_col7, #T_588fb_row16_col7, #T_588fb_row17_col7 {\n",
       "  text-align: left;\n",
       "  background-color: lightgrey;\n",
       "}\n",
       "#T_588fb_row14_col7 {\n",
       "  text-align: left;\n",
       "  background-color: yellow;\n",
       "  background-color: lightgrey;\n",
       "}\n",
       "</style>\n",
       "<table id=\"T_588fb\">\n",
       "  <thead>\n",
       "    <tr>\n",
       "      <th class=\"blank level0\" >&nbsp;</th>\n",
       "      <th id=\"T_588fb_level0_col0\" class=\"col_heading level0 col0\" >Model</th>\n",
       "      <th id=\"T_588fb_level0_col1\" class=\"col_heading level0 col1\" >MAE</th>\n",
       "      <th id=\"T_588fb_level0_col2\" class=\"col_heading level0 col2\" >MSE</th>\n",
       "      <th id=\"T_588fb_level0_col3\" class=\"col_heading level0 col3\" >RMSE</th>\n",
       "      <th id=\"T_588fb_level0_col4\" class=\"col_heading level0 col4\" >R2</th>\n",
       "      <th id=\"T_588fb_level0_col5\" class=\"col_heading level0 col5\" >RMSLE</th>\n",
       "      <th id=\"T_588fb_level0_col6\" class=\"col_heading level0 col6\" >MAPE</th>\n",
       "      <th id=\"T_588fb_level0_col7\" class=\"col_heading level0 col7\" >TT (Sec)</th>\n",
       "    </tr>\n",
       "  </thead>\n",
       "  <tbody>\n",
       "    <tr>\n",
       "      <th id=\"T_588fb_level0_row0\" class=\"row_heading level0 row0\" >et</th>\n",
       "      <td id=\"T_588fb_row0_col0\" class=\"data row0 col0\" >Extra Trees Regressor</td>\n",
       "      <td id=\"T_588fb_row0_col1\" class=\"data row0 col1\" >25550.4842</td>\n",
       "      <td id=\"T_588fb_row0_col2\" class=\"data row0 col2\" >3024210231.8665</td>\n",
       "      <td id=\"T_588fb_row0_col3\" class=\"data row0 col3\" >54776.4386</td>\n",
       "      <td id=\"T_588fb_row0_col4\" class=\"data row0 col4\" >0.9396</td>\n",
       "      <td id=\"T_588fb_row0_col5\" class=\"data row0 col5\" >0.4075</td>\n",
       "      <td id=\"T_588fb_row0_col6\" class=\"data row0 col6\" >0.0779</td>\n",
       "      <td id=\"T_588fb_row0_col7\" class=\"data row0 col7\" >0.1090</td>\n",
       "    </tr>\n",
       "    <tr>\n",
       "      <th id=\"T_588fb_level0_row1\" class=\"row_heading level0 row1\" >rf</th>\n",
       "      <td id=\"T_588fb_row1_col0\" class=\"data row1 col0\" >Random Forest Regressor</td>\n",
       "      <td id=\"T_588fb_row1_col1\" class=\"data row1 col1\" >26177.5247</td>\n",
       "      <td id=\"T_588fb_row1_col2\" class=\"data row1 col2\" >3039022234.9292</td>\n",
       "      <td id=\"T_588fb_row1_col3\" class=\"data row1 col3\" >54847.6350</td>\n",
       "      <td id=\"T_588fb_row1_col4\" class=\"data row1 col4\" >0.9393</td>\n",
       "      <td id=\"T_588fb_row1_col5\" class=\"data row1 col5\" >0.4615</td>\n",
       "      <td id=\"T_588fb_row1_col6\" class=\"data row1 col6\" >0.0859</td>\n",
       "      <td id=\"T_588fb_row1_col7\" class=\"data row1 col7\" >0.1400</td>\n",
       "    </tr>\n",
       "    <tr>\n",
       "      <th id=\"T_588fb_level0_row2\" class=\"row_heading level0 row2\" >lightgbm</th>\n",
       "      <td id=\"T_588fb_row2_col0\" class=\"data row2 col0\" >Light Gradient Boosting Machine</td>\n",
       "      <td id=\"T_588fb_row2_col1\" class=\"data row2 col1\" >31486.6396</td>\n",
       "      <td id=\"T_588fb_row2_col2\" class=\"data row2 col2\" >3125331909.7799</td>\n",
       "      <td id=\"T_588fb_row2_col3\" class=\"data row2 col3\" >55679.4143</td>\n",
       "      <td id=\"T_588fb_row2_col4\" class=\"data row2 col4\" >0.9376</td>\n",
       "      <td id=\"T_588fb_row2_col5\" class=\"data row2 col5\" >1.4609</td>\n",
       "      <td id=\"T_588fb_row2_col6\" class=\"data row2 col6\" >0.1876</td>\n",
       "      <td id=\"T_588fb_row2_col7\" class=\"data row2 col7\" >0.0200</td>\n",
       "    </tr>\n",
       "    <tr>\n",
       "      <th id=\"T_588fb_level0_row3\" class=\"row_heading level0 row3\" >gbr</th>\n",
       "      <td id=\"T_588fb_row3_col0\" class=\"data row3 col0\" >Gradient Boosting Regressor</td>\n",
       "      <td id=\"T_588fb_row3_col1\" class=\"data row3 col1\" >41689.3304</td>\n",
       "      <td id=\"T_588fb_row3_col2\" class=\"data row3 col2\" >4289765850.5270</td>\n",
       "      <td id=\"T_588fb_row3_col3\" class=\"data row3 col3\" >65303.7043</td>\n",
       "      <td id=\"T_588fb_row3_col4\" class=\"data row3 col4\" >0.9143</td>\n",
       "      <td id=\"T_588fb_row3_col5\" class=\"data row3 col5\" >1.5986</td>\n",
       "      <td id=\"T_588fb_row3_col6\" class=\"data row3 col6\" >0.5256</td>\n",
       "      <td id=\"T_588fb_row3_col7\" class=\"data row3 col7\" >0.0870</td>\n",
       "    </tr>\n",
       "    <tr>\n",
       "      <th id=\"T_588fb_level0_row4\" class=\"row_heading level0 row4\" >dt</th>\n",
       "      <td id=\"T_588fb_row4_col0\" class=\"data row4 col0\" >Decision Tree Regressor</td>\n",
       "      <td id=\"T_588fb_row4_col1\" class=\"data row4 col1\" >32067.1944</td>\n",
       "      <td id=\"T_588fb_row4_col2\" class=\"data row4 col2\" >4966676623.6972</td>\n",
       "      <td id=\"T_588fb_row4_col3\" class=\"data row4 col3\" >70394.9046</td>\n",
       "      <td id=\"T_588fb_row4_col4\" class=\"data row4 col4\" >0.9009</td>\n",
       "      <td id=\"T_588fb_row4_col5\" class=\"data row4 col5\" >0.2638</td>\n",
       "      <td id=\"T_588fb_row4_col6\" class=\"data row4 col6\" >0.0878</td>\n",
       "      <td id=\"T_588fb_row4_col7\" class=\"data row4 col7\" >0.0110</td>\n",
       "    </tr>\n",
       "    <tr>\n",
       "      <th id=\"T_588fb_level0_row5\" class=\"row_heading level0 row5\" >ridge</th>\n",
       "      <td id=\"T_588fb_row5_col0\" class=\"data row5 col0\" >Ridge Regression</td>\n",
       "      <td id=\"T_588fb_row5_col1\" class=\"data row5 col1\" >70200.7107</td>\n",
       "      <td id=\"T_588fb_row5_col2\" class=\"data row5 col2\" >10219791578.7626</td>\n",
       "      <td id=\"T_588fb_row5_col3\" class=\"data row5 col3\" >100989.5643</td>\n",
       "      <td id=\"T_588fb_row5_col4\" class=\"data row5 col4\" >0.7959</td>\n",
       "      <td id=\"T_588fb_row5_col5\" class=\"data row5 col5\" >1.6749</td>\n",
       "      <td id=\"T_588fb_row5_col6\" class=\"data row5 col6\" >0.7416</td>\n",
       "      <td id=\"T_588fb_row5_col7\" class=\"data row5 col7\" >0.0070</td>\n",
       "    </tr>\n",
       "    <tr>\n",
       "      <th id=\"T_588fb_level0_row6\" class=\"row_heading level0 row6\" >lasso</th>\n",
       "      <td id=\"T_588fb_row6_col0\" class=\"data row6 col0\" >Lasso Regression</td>\n",
       "      <td id=\"T_588fb_row6_col1\" class=\"data row6 col1\" >70244.4911</td>\n",
       "      <td id=\"T_588fb_row6_col2\" class=\"data row6 col2\" >10228126762.2877</td>\n",
       "      <td id=\"T_588fb_row6_col3\" class=\"data row6 col3\" >101033.2658</td>\n",
       "      <td id=\"T_588fb_row6_col4\" class=\"data row6 col4\" >0.7958</td>\n",
       "      <td id=\"T_588fb_row6_col5\" class=\"data row6 col5\" >1.6729</td>\n",
       "      <td id=\"T_588fb_row6_col6\" class=\"data row6 col6\" >0.7247</td>\n",
       "      <td id=\"T_588fb_row6_col7\" class=\"data row6 col7\" >0.0160</td>\n",
       "    </tr>\n",
       "    <tr>\n",
       "      <th id=\"T_588fb_level0_row7\" class=\"row_heading level0 row7\" >llar</th>\n",
       "      <td id=\"T_588fb_row7_col0\" class=\"data row7 col0\" >Lasso Least Angle Regression</td>\n",
       "      <td id=\"T_588fb_row7_col1\" class=\"data row7 col1\" >70148.7971</td>\n",
       "      <td id=\"T_588fb_row7_col2\" class=\"data row7 col2\" >10228061724.5808</td>\n",
       "      <td id=\"T_588fb_row7_col3\" class=\"data row7 col3\" >101032.8044</td>\n",
       "      <td id=\"T_588fb_row7_col4\" class=\"data row7 col4\" >0.7958</td>\n",
       "      <td id=\"T_588fb_row7_col5\" class=\"data row7 col5\" >1.6729</td>\n",
       "      <td id=\"T_588fb_row7_col6\" class=\"data row7 col6\" >0.7262</td>\n",
       "      <td id=\"T_588fb_row7_col7\" class=\"data row7 col7\" >0.0070</td>\n",
       "    </tr>\n",
       "    <tr>\n",
       "      <th id=\"T_588fb_level0_row8\" class=\"row_heading level0 row8\" >knn</th>\n",
       "      <td id=\"T_588fb_row8_col0\" class=\"data row8 col0\" >K Neighbors Regressor</td>\n",
       "      <td id=\"T_588fb_row8_col1\" class=\"data row8 col1\" >66224.7236</td>\n",
       "      <td id=\"T_588fb_row8_col2\" class=\"data row8 col2\" >15805451019.1880</td>\n",
       "      <td id=\"T_588fb_row8_col3\" class=\"data row8 col3\" >125423.2086</td>\n",
       "      <td id=\"T_588fb_row8_col4\" class=\"data row8 col4\" >0.6845</td>\n",
       "      <td id=\"T_588fb_row8_col5\" class=\"data row8 col5\" >1.6828</td>\n",
       "      <td id=\"T_588fb_row8_col6\" class=\"data row8 col6\" >0.9828</td>\n",
       "      <td id=\"T_588fb_row8_col7\" class=\"data row8 col7\" >0.0110</td>\n",
       "    </tr>\n",
       "    <tr>\n",
       "      <th id=\"T_588fb_level0_row9\" class=\"row_heading level0 row9\" >ada</th>\n",
       "      <td id=\"T_588fb_row9_col0\" class=\"data row9 col0\" >AdaBoost Regressor</td>\n",
       "      <td id=\"T_588fb_row9_col1\" class=\"data row9 col1\" >103998.2084</td>\n",
       "      <td id=\"T_588fb_row9_col2\" class=\"data row9 col2\" >15972394083.8654</td>\n",
       "      <td id=\"T_588fb_row9_col3\" class=\"data row9 col3\" >126182.0707</td>\n",
       "      <td id=\"T_588fb_row9_col4\" class=\"data row9 col4\" >0.6813</td>\n",
       "      <td id=\"T_588fb_row9_col5\" class=\"data row9 col5\" >1.9475</td>\n",
       "      <td id=\"T_588fb_row9_col6\" class=\"data row9 col6\" >1.8260</td>\n",
       "      <td id=\"T_588fb_row9_col7\" class=\"data row9 col7\" >0.0420</td>\n",
       "    </tr>\n",
       "    <tr>\n",
       "      <th id=\"T_588fb_level0_row10\" class=\"row_heading level0 row10\" >lr</th>\n",
       "      <td id=\"T_588fb_row10_col0\" class=\"data row10 col0\" >Linear Regression</td>\n",
       "      <td id=\"T_588fb_row10_col1\" class=\"data row10 col1\" >103412.9708</td>\n",
       "      <td id=\"T_588fb_row10_col2\" class=\"data row10 col2\" >19586854030.6138</td>\n",
       "      <td id=\"T_588fb_row10_col3\" class=\"data row10 col3\" >139890.5162</td>\n",
       "      <td id=\"T_588fb_row10_col4\" class=\"data row10 col4\" >0.6089</td>\n",
       "      <td id=\"T_588fb_row10_col5\" class=\"data row10 col5\" >1.9660</td>\n",
       "      <td id=\"T_588fb_row10_col6\" class=\"data row10 col6\" >2.3104</td>\n",
       "      <td id=\"T_588fb_row10_col7\" class=\"data row10 col7\" >0.0070</td>\n",
       "    </tr>\n",
       "    <tr>\n",
       "      <th id=\"T_588fb_level0_row11\" class=\"row_heading level0 row11\" >omp</th>\n",
       "      <td id=\"T_588fb_row11_col0\" class=\"data row11 col0\" >Orthogonal Matching Pursuit</td>\n",
       "      <td id=\"T_588fb_row11_col1\" class=\"data row11 col1\" >107410.0628</td>\n",
       "      <td id=\"T_588fb_row11_col2\" class=\"data row11 col2\" >19745015210.8513</td>\n",
       "      <td id=\"T_588fb_row11_col3\" class=\"data row11 col3\" >140444.6952</td>\n",
       "      <td id=\"T_588fb_row11_col4\" class=\"data row11 col4\" >0.6056</td>\n",
       "      <td id=\"T_588fb_row11_col5\" class=\"data row11 col5\" >1.9445</td>\n",
       "      <td id=\"T_588fb_row11_col6\" class=\"data row11 col6\" >1.9079</td>\n",
       "      <td id=\"T_588fb_row11_col7\" class=\"data row11 col7\" >0.0070</td>\n",
       "    </tr>\n",
       "    <tr>\n",
       "      <th id=\"T_588fb_level0_row12\" class=\"row_heading level0 row12\" >en</th>\n",
       "      <td id=\"T_588fb_row12_col0\" class=\"data row12 col0\" >Elastic Net</td>\n",
       "      <td id=\"T_588fb_row12_col1\" class=\"data row12 col1\" >117288.1465</td>\n",
       "      <td id=\"T_588fb_row12_col2\" class=\"data row12 col2\" >25243426547.4582</td>\n",
       "      <td id=\"T_588fb_row12_col3\" class=\"data row12 col3\" >158830.8234</td>\n",
       "      <td id=\"T_588fb_row12_col4\" class=\"data row12 col4\" >0.4964</td>\n",
       "      <td id=\"T_588fb_row12_col5\" class=\"data row12 col5\" >2.0402</td>\n",
       "      <td id=\"T_588fb_row12_col6\" class=\"data row12 col6\" >3.2710</td>\n",
       "      <td id=\"T_588fb_row12_col7\" class=\"data row12 col7\" >0.0170</td>\n",
       "    </tr>\n",
       "    <tr>\n",
       "      <th id=\"T_588fb_level0_row13\" class=\"row_heading level0 row13\" >br</th>\n",
       "      <td id=\"T_588fb_row13_col0\" class=\"data row13 col0\" >Bayesian Ridge</td>\n",
       "      <td id=\"T_588fb_row13_col1\" class=\"data row13 col1\" >149334.1707</td>\n",
       "      <td id=\"T_588fb_row13_col2\" class=\"data row13 col2\" >37157277252.2336</td>\n",
       "      <td id=\"T_588fb_row13_col3\" class=\"data row13 col3\" >192730.3678</td>\n",
       "      <td id=\"T_588fb_row13_col4\" class=\"data row13 col4\" >0.2587</td>\n",
       "      <td id=\"T_588fb_row13_col5\" class=\"data row13 col5\" >2.0826</td>\n",
       "      <td id=\"T_588fb_row13_col6\" class=\"data row13 col6\" >4.5145</td>\n",
       "      <td id=\"T_588fb_row13_col7\" class=\"data row13 col7\" >0.0060</td>\n",
       "    </tr>\n",
       "    <tr>\n",
       "      <th id=\"T_588fb_level0_row14\" class=\"row_heading level0 row14\" >dummy</th>\n",
       "      <td id=\"T_588fb_row14_col0\" class=\"data row14 col0\" >Dummy Regressor</td>\n",
       "      <td id=\"T_588fb_row14_col1\" class=\"data row14 col1\" >182020.5538</td>\n",
       "      <td id=\"T_588fb_row14_col2\" class=\"data row14 col2\" >50266607820.0692</td>\n",
       "      <td id=\"T_588fb_row14_col3\" class=\"data row14 col3\" >224157.6660</td>\n",
       "      <td id=\"T_588fb_row14_col4\" class=\"data row14 col4\" >-0.0020</td>\n",
       "      <td id=\"T_588fb_row14_col5\" class=\"data row14 col5\" >2.1940</td>\n",
       "      <td id=\"T_588fb_row14_col6\" class=\"data row14 col6\" >5.4405</td>\n",
       "      <td id=\"T_588fb_row14_col7\" class=\"data row14 col7\" >0.0040</td>\n",
       "    </tr>\n",
       "    <tr>\n",
       "      <th id=\"T_588fb_level0_row15\" class=\"row_heading level0 row15\" >huber</th>\n",
       "      <td id=\"T_588fb_row15_col0\" class=\"data row15 col0\" >Huber Regressor</td>\n",
       "      <td id=\"T_588fb_row15_col1\" class=\"data row15 col1\" >291305.2550</td>\n",
       "      <td id=\"T_588fb_row15_col2\" class=\"data row15 col2\" >394614030355.1829</td>\n",
       "      <td id=\"T_588fb_row15_col3\" class=\"data row15 col3\" >589330.8648</td>\n",
       "      <td id=\"T_588fb_row15_col4\" class=\"data row15 col4\" >-6.7829</td>\n",
       "      <td id=\"T_588fb_row15_col5\" class=\"data row15 col5\" >2.1539</td>\n",
       "      <td id=\"T_588fb_row15_col6\" class=\"data row15 col6\" >2.2091</td>\n",
       "      <td id=\"T_588fb_row15_col7\" class=\"data row15 col7\" >0.0190</td>\n",
       "    </tr>\n",
       "    <tr>\n",
       "      <th id=\"T_588fb_level0_row16\" class=\"row_heading level0 row16\" >par</th>\n",
       "      <td id=\"T_588fb_row16_col0\" class=\"data row16 col0\" >Passive Aggressive Regressor</td>\n",
       "      <td id=\"T_588fb_row16_col1\" class=\"data row16 col1\" >417037.4295</td>\n",
       "      <td id=\"T_588fb_row16_col2\" class=\"data row16 col2\" >3592568914372.1299</td>\n",
       "      <td id=\"T_588fb_row16_col3\" class=\"data row16 col3\" >1687504.5870</td>\n",
       "      <td id=\"T_588fb_row16_col4\" class=\"data row16 col4\" >-69.0399</td>\n",
       "      <td id=\"T_588fb_row16_col5\" class=\"data row16 col5\" >2.3135</td>\n",
       "      <td id=\"T_588fb_row16_col6\" class=\"data row16 col6\" >7.0355</td>\n",
       "      <td id=\"T_588fb_row16_col7\" class=\"data row16 col7\" >0.0080</td>\n",
       "    </tr>\n",
       "    <tr>\n",
       "      <th id=\"T_588fb_level0_row17\" class=\"row_heading level0 row17\" >lar</th>\n",
       "      <td id=\"T_588fb_row17_col0\" class=\"data row17 col0\" >Least Angle Regression</td>\n",
       "      <td id=\"T_588fb_row17_col1\" class=\"data row17 col1\" >125525548.9337</td>\n",
       "      <td id=\"T_588fb_row17_col2\" class=\"data row17 col2\" >37233114534632046592.0000</td>\n",
       "      <td id=\"T_588fb_row17_col3\" class=\"data row17 col3\" >1929894194.8936</td>\n",
       "      <td id=\"T_588fb_row17_col4\" class=\"data row17 col4\" >-729944433.0952</td>\n",
       "      <td id=\"T_588fb_row17_col5\" class=\"data row17 col5\" >2.5751</td>\n",
       "      <td id=\"T_588fb_row17_col6\" class=\"data row17 col6\" >1228.2952</td>\n",
       "      <td id=\"T_588fb_row17_col7\" class=\"data row17 col7\" >0.0070</td>\n",
       "    </tr>\n",
       "  </tbody>\n",
       "</table>\n"
      ],
      "text/plain": [
       "<pandas.io.formats.style.Styler at 0x7f89537cd0a0>"
      ]
     },
     "metadata": {},
     "output_type": "display_data"
    }
   ],
   "source": [
    "best = compare_models()"
   ]
  },
  {
   "cell_type": "code",
   "execution_count": 33,
   "id": "e00263bc-32d4-4b1c-a07c-099a6bac3d83",
   "metadata": {},
   "outputs": [
    {
     "data": {
      "application/vnd.jupyter.widget-view+json": {
       "model_id": "eabe3a7099224565a2012b21eff41f88",
       "version_major": 2,
       "version_minor": 0
      },
      "text/plain": [
       "interactive(children=(ToggleButtons(description='Plot Type:', icons=('',), options=(('Hyperparameters', 'param…"
      ]
     },
     "metadata": {},
     "output_type": "display_data"
    }
   ],
   "source": [
    "evaluate_model(best)"
   ]
  },
  {
   "cell_type": "code",
   "execution_count": 37,
   "id": "203d0391-9176-4706-a069-61e2a1c60d0d",
   "metadata": {},
   "outputs": [
    {
     "data": {
      "image/png": "[encoded data removed]",
      "text/plain": [
       "<Figure size 576x396 with 2 Axes>"
      ]
     },
     "metadata": {},
     "output_type": "display_data"
    }
   ],
   "source": [
    "plot_model(best, plot = 'residuals')"
   ]
  },
  {
   "cell_type": "code",
   "execution_count": null,
   "id": "11e9bd2b-a553-40cf-8887-82371d0597ad",
   "metadata": {},
   "outputs": [],
   "source": []
  }
 ],
 "metadata": {
  "kernelspec": {
   "display_name": "Python 3 (ipykernel)",
   "language": "python",
   "name": "python3"
  },
  "language_info": {
   "codemirror_mode": {
    "name": "ipython",
    "version": 3
   },
   "file_extension": ".py",
   "mimetype": "text/x-python",
   "name": "python",
   "nbconvert_exporter": "python",
   "pygments_lexer": "ipython3",
   "version": "3.8.13"
  }
 },
 "nbformat": 4,
 "nbformat_minor": 5
}
